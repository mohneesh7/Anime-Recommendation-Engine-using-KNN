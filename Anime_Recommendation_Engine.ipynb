{
  "nbformat": 4,
  "nbformat_minor": 0,
  "metadata": {
    "colab": {
      "name": "Anime Recommendation Engine.ipynb",
      "provenance": [],
      "collapsed_sections": []
    },
    "kernelspec": {
      "name": "python3",
      "display_name": "Python 3"
    }
  },
  "cells": [
    {
      "cell_type": "code",
      "metadata": {
        "id": "rCdrk2wPF0pl",
        "colab_type": "code",
        "outputId": "103b69c2-4f45-4c5d-d51f-c5d910b9fc65",
        "colab": {
          "base_uri": "https://localhost:8080/",
          "height": 34
        }
      },
      "source": [
        "!git clone https://github.com/mohneesh7/Win-Arch-py-pipe.git"
      ],
      "execution_count": 0,
      "outputs": [
        {
          "output_type": "stream",
          "text": [
            "fatal: destination path 'Win-Arch-py-pipe' already exists and is not an empty directory.\n"
          ],
          "name": "stdout"
        }
      ]
    },
    {
      "cell_type": "code",
      "metadata": {
        "id": "9xjNDe1sF36_",
        "colab_type": "code",
        "outputId": "9299d29a-9697-484f-cbb4-eee0d25766ff",
        "colab": {
          "base_uri": "https://localhost:8080/",
          "height": 34
        }
      },
      "source": [
        "%cd Win-Arch-py-pipe/"
      ],
      "execution_count": 0,
      "outputs": [
        {
          "output_type": "stream",
          "text": [
            "/content/Win-Arch-py-pipe\n"
          ],
          "name": "stdout"
        }
      ]
    },
    {
      "cell_type": "code",
      "metadata": {
        "id": "ZzWsj15qm3k4",
        "colab_type": "code",
        "colab": {}
      },
      "source": [
        "import numpy as np\n",
        "import pandas as pd\n",
        "import matplotlib.pyplot as plt\n",
        "import seaborn as sns\n",
        "from sklearn.preprocessing import StandardScaler\n",
        "from sklearn.preprocessing import MinMaxScaler\n",
        "from sklearn.neighbors import NearestNeighbors"
      ],
      "execution_count": 0,
      "outputs": []
    },
    {
      "cell_type": "code",
      "metadata": {
        "id": "eWU-OnJRIXVj",
        "colab_type": "code",
        "outputId": "e5d7a074-58cf-4395-fdf4-60db973c75cb",
        "colab": {
          "base_uri": "https://localhost:8080/",
          "height": 102
        }
      },
      "source": [
        "!sudo apt-get install unzip"
      ],
      "execution_count": 0,
      "outputs": [
        {
          "output_type": "stream",
          "text": [
            "\rReading package lists... 0%\r\rReading package lists... 0%\r\rReading package lists... 0%\r\rReading package lists... 7%\r\rReading package lists... 7%\r\rReading package lists... 7%\r\rReading package lists... 7%\r\rReading package lists... 66%\r\rReading package lists... 68%\r\rReading package lists... 68%\r\rReading package lists... 68%\r\rReading package lists... 68%\r\rReading package lists... 74%\r\rReading package lists... 74%\r\rReading package lists... 74%\r\rReading package lists... 74%\r\rReading package lists... 84%\r\rReading package lists... 84%\r\rReading package lists... 84%\r\rReading package lists... 84%\r\rReading package lists... 84%\r\rReading package lists... 84%\r\rReading package lists... 84%\r\rReading package lists... 84%\r\rReading package lists... 88%\r\rReading package lists... 88%\r\rReading package lists... 88%\r\rReading package lists... 88%\r\rReading package lists... 93%\r\rReading package lists... 93%\r\rReading package lists... 93%\r\rReading package lists... 93%\r\rReading package lists... 94%\r\rReading package lists... 94%\r\rReading package lists... 94%\r\rReading package lists... 94%\r\rReading package lists... 95%\r\rReading package lists... 95%\r\rReading package lists... 98%\r\rReading package lists... 98%\r\rReading package lists... 98%\r\rReading package lists... 98%\r\rReading package lists... Done\r\n",
            "\rBuilding dependency tree... 0%\r\rBuilding dependency tree... 0%\r\rBuilding dependency tree... 50%\r\rBuilding dependency tree... 50%\r\rBuilding dependency tree       \r\n",
            "\rReading state information... 0%\r\rReading state information... 0%\r\rReading state information... Done\r\n",
            "unzip is already the newest version (6.0-21ubuntu1).\n",
            "0 upgraded, 0 newly installed, 0 to remove and 8 not upgraded.\n"
          ],
          "name": "stdout"
        }
      ]
    },
    {
      "cell_type": "code",
      "metadata": {
        "id": "KKik-2tYK2GV",
        "colab_type": "code",
        "outputId": "b4cee793-2eea-4861-be35-28812bf61780",
        "colab": {
          "base_uri": "https://localhost:8080/",
          "height": 136
        }
      },
      "source": [
        "!ls"
      ],
      "execution_count": 0,
      "outputs": [
        {
          "output_type": "stream",
          "text": [
            " Anime.csv\t   'chunking (5).py'\n",
            " app.py\t\t   'Lemmatize (8).py'\n",
            " Basic-1.py\t    myanimelist-anime-dataset-as-20190204.zip\n",
            " Basic-2.py\t   'Named-entity-recognition (7).py'\n",
            " Basic-3.py\t   'Pos-tagging (4).py'\n",
            " bigram.py\t    README.md\n",
            "'Chinking (6).py'   utils.py\n"
          ],
          "name": "stdout"
        }
      ]
    },
    {
      "cell_type": "code",
      "metadata": {
        "id": "OtrWgaHBK55s",
        "colab_type": "code",
        "outputId": "6a75c11f-6674-4762-bd2d-4befc5ffe29d",
        "colab": {
          "base_uri": "https://localhost:8080/",
          "height": 68
        }
      },
      "source": [
        "!unzip myanimelist-anime-dataset-as-20190204.zip"
      ],
      "execution_count": 0,
      "outputs": [
        {
          "output_type": "stream",
          "text": [
            "Archive:  myanimelist-anime-dataset-as-20190204.zip\n",
            "replace Anime.csv? [y]es, [n]o, [A]ll, [N]one, [r]ename: y\n",
            "  inflating: Anime.csv               \n"
          ],
          "name": "stdout"
        }
      ]
    },
    {
      "cell_type": "code",
      "metadata": {
        "id": "pt05vLGiLAmz",
        "colab_type": "code",
        "colab": {}
      },
      "source": [
        "anime = pd.read_csv('Anime.csv')"
      ],
      "execution_count": 0,
      "outputs": []
    },
    {
      "cell_type": "code",
      "metadata": {
        "id": "nOZ06qPwLTKL",
        "colab_type": "code",
        "colab": {}
      },
      "source": [
        "anime_cpy = pd.read_csv('Anime.csv')"
      ],
      "execution_count": 0,
      "outputs": []
    },
    {
      "cell_type": "code",
      "metadata": {
        "id": "QjOYrOGBLWFl",
        "colab_type": "code",
        "outputId": "3d18a8e3-38fa-4513-f915-4cb9a76c2ddb",
        "colab": {
          "base_uri": "https://localhost:8080/",
          "height": 581
        }
      },
      "source": [
        "anime.head()"
      ],
      "execution_count": 0,
      "outputs": [
        {
          "output_type": "execute_result",
          "data": {
            "text/html": [
              "<div>\n",
              "<style scoped>\n",
              "    .dataframe tbody tr th:only-of-type {\n",
              "        vertical-align: middle;\n",
              "    }\n",
              "\n",
              "    .dataframe tbody tr th {\n",
              "        vertical-align: top;\n",
              "    }\n",
              "\n",
              "    .dataframe thead th {\n",
              "        text-align: right;\n",
              "    }\n",
              "</style>\n",
              "<table border=\"1\" class=\"dataframe\">\n",
              "  <thead>\n",
              "    <tr style=\"text-align: right;\">\n",
              "      <th></th>\n",
              "      <th>animeID</th>\n",
              "      <th>name</th>\n",
              "      <th>title_english</th>\n",
              "      <th>title_japanese</th>\n",
              "      <th>title_synonyms</th>\n",
              "      <th>type</th>\n",
              "      <th>source</th>\n",
              "      <th>producers</th>\n",
              "      <th>genre</th>\n",
              "      <th>studio</th>\n",
              "      <th>episodes</th>\n",
              "      <th>status</th>\n",
              "      <th>airing</th>\n",
              "      <th>aired</th>\n",
              "      <th>duration</th>\n",
              "      <th>rating</th>\n",
              "      <th>score</th>\n",
              "      <th>scored_by</th>\n",
              "      <th>rank</th>\n",
              "      <th>popularity</th>\n",
              "      <th>members</th>\n",
              "      <th>favorites</th>\n",
              "      <th>synopsis</th>\n",
              "      <th>background</th>\n",
              "      <th>premiered</th>\n",
              "      <th>broadcast</th>\n",
              "      <th>related</th>\n",
              "    </tr>\n",
              "  </thead>\n",
              "  <tbody>\n",
              "    <tr>\n",
              "      <td>0</td>\n",
              "      <td>1</td>\n",
              "      <td>Cowboy Bebop</td>\n",
              "      <td>Cowboy Bebop</td>\n",
              "      <td>カウボーイビバップ</td>\n",
              "      <td>[]</td>\n",
              "      <td>TV</td>\n",
              "      <td>Original</td>\n",
              "      <td>['Bandai Visual']</td>\n",
              "      <td>['Action', 'Adventure', 'Comedy', 'Drama', 'Sc...</td>\n",
              "      <td>['Sunrise']</td>\n",
              "      <td>26.0</td>\n",
              "      <td>Finished Airing</td>\n",
              "      <td>False</td>\n",
              "      <td>{'from': '1998-04-03T00:00:00+00:00', 'to': '1...</td>\n",
              "      <td>24 min per ep</td>\n",
              "      <td>R - 17+ (violence &amp; profanity)</td>\n",
              "      <td>8.81</td>\n",
              "      <td>405664.0</td>\n",
              "      <td>26.0</td>\n",
              "      <td>39.0</td>\n",
              "      <td>795733.0</td>\n",
              "      <td>43460.0</td>\n",
              "      <td>In the year 2071, humanity has colonized sever...</td>\n",
              "      <td>When Cowboy Bebop first aired in spring of 199...</td>\n",
              "      <td>Spring 1998</td>\n",
              "      <td>Saturdays at 01:00 (JST)</td>\n",
              "      <td>{'Adaptation': [{'mal_id': 173, 'type': 'manga...</td>\n",
              "    </tr>\n",
              "    <tr>\n",
              "      <td>1</td>\n",
              "      <td>5</td>\n",
              "      <td>Cowboy Bebop: Tengoku no Tobira</td>\n",
              "      <td>Cowboy Bebop: The Movie</td>\n",
              "      <td>カウボーイビバップ 天国の扉</td>\n",
              "      <td>[\"Cowboy Bebop: Knockin' on Heaven's Door\"]</td>\n",
              "      <td>Movie</td>\n",
              "      <td>Original</td>\n",
              "      <td>['Sunrise', 'Bandai Visual']</td>\n",
              "      <td>['Action', 'Drama', 'Mystery', 'Sci-Fi', 'Space']</td>\n",
              "      <td>['Bones']</td>\n",
              "      <td>1.0</td>\n",
              "      <td>Finished Airing</td>\n",
              "      <td>False</td>\n",
              "      <td>{'from': '2001-09-01T00:00:00+00:00', 'to': No...</td>\n",
              "      <td>1 hr 55 min</td>\n",
              "      <td>R - 17+ (violence &amp; profanity)</td>\n",
              "      <td>8.41</td>\n",
              "      <td>120243.0</td>\n",
              "      <td>164.0</td>\n",
              "      <td>449.0</td>\n",
              "      <td>197791.0</td>\n",
              "      <td>776.0</td>\n",
              "      <td>Another day, another bounty—such is the life o...</td>\n",
              "      <td>NaN</td>\n",
              "      <td>NaN</td>\n",
              "      <td>NaN</td>\n",
              "      <td>{'Parent story': [{'mal_id': 1, 'type': 'anime...</td>\n",
              "    </tr>\n",
              "    <tr>\n",
              "      <td>2</td>\n",
              "      <td>6</td>\n",
              "      <td>Trigun</td>\n",
              "      <td>Trigun</td>\n",
              "      <td>トライガン</td>\n",
              "      <td>[]</td>\n",
              "      <td>TV</td>\n",
              "      <td>Manga</td>\n",
              "      <td>['Victor Entertainment']</td>\n",
              "      <td>['Action', 'Sci-Fi', 'Adventure', 'Comedy', 'D...</td>\n",
              "      <td>['Madhouse']</td>\n",
              "      <td>26.0</td>\n",
              "      <td>Finished Airing</td>\n",
              "      <td>False</td>\n",
              "      <td>{'from': '1998-04-01T00:00:00+00:00', 'to': '1...</td>\n",
              "      <td>24 min per ep</td>\n",
              "      <td>PG-13 - Teens 13 or older</td>\n",
              "      <td>8.30</td>\n",
              "      <td>212537.0</td>\n",
              "      <td>255.0</td>\n",
              "      <td>146.0</td>\n",
              "      <td>408548.0</td>\n",
              "      <td>10432.0</td>\n",
              "      <td>Vash the Stampede is the man with a $$60,000,0...</td>\n",
              "      <td>The Japanese release by Victor Entertainment h...</td>\n",
              "      <td>Spring 1998</td>\n",
              "      <td>Thursdays at 01:15 (JST)</td>\n",
              "      <td>{'Adaptation': [{'mal_id': 703, 'type': 'manga...</td>\n",
              "    </tr>\n",
              "    <tr>\n",
              "      <td>3</td>\n",
              "      <td>7</td>\n",
              "      <td>Witch Hunter Robin</td>\n",
              "      <td>Witch Hunter Robin</td>\n",
              "      <td>Witch Hunter ROBIN</td>\n",
              "      <td>['WHR']</td>\n",
              "      <td>TV</td>\n",
              "      <td>Original</td>\n",
              "      <td>['Bandai Visual']</td>\n",
              "      <td>['Action', 'Magic', 'Police', 'Supernatural', ...</td>\n",
              "      <td>['Sunrise']</td>\n",
              "      <td>26.0</td>\n",
              "      <td>Finished Airing</td>\n",
              "      <td>False</td>\n",
              "      <td>{'from': '2002-07-02T00:00:00+00:00', 'to': '2...</td>\n",
              "      <td>25 min per ep</td>\n",
              "      <td>PG-13 - Teens 13 or older</td>\n",
              "      <td>7.33</td>\n",
              "      <td>32837.0</td>\n",
              "      <td>2371.0</td>\n",
              "      <td>1171.0</td>\n",
              "      <td>79397.0</td>\n",
              "      <td>537.0</td>\n",
              "      <td>Witches are individuals with special powers li...</td>\n",
              "      <td>NaN</td>\n",
              "      <td>Summer 2002</td>\n",
              "      <td>Tuesdays at Unknown</td>\n",
              "      <td>{}</td>\n",
              "    </tr>\n",
              "    <tr>\n",
              "      <td>4</td>\n",
              "      <td>8</td>\n",
              "      <td>Bouken Ou Beet</td>\n",
              "      <td>Beet the Vandel Buster</td>\n",
              "      <td>冒険王ビィト</td>\n",
              "      <td>['Adventure King Beet']</td>\n",
              "      <td>TV</td>\n",
              "      <td>Manga</td>\n",
              "      <td>['TV Tokyo', 'Dentsu']</td>\n",
              "      <td>['Adventure', 'Fantasy', 'Shounen', 'Supernatu...</td>\n",
              "      <td>['Toei Animation']</td>\n",
              "      <td>52.0</td>\n",
              "      <td>Finished Airing</td>\n",
              "      <td>False</td>\n",
              "      <td>{'from': '2004-09-30T00:00:00+00:00', 'to': '2...</td>\n",
              "      <td>23 min per ep</td>\n",
              "      <td>PG - Children</td>\n",
              "      <td>7.03</td>\n",
              "      <td>4894.0</td>\n",
              "      <td>3544.0</td>\n",
              "      <td>3704.0</td>\n",
              "      <td>11708.0</td>\n",
              "      <td>14.0</td>\n",
              "      <td>It is the dark century and the people are suff...</td>\n",
              "      <td>NaN</td>\n",
              "      <td>Fall 2004</td>\n",
              "      <td>Thursdays at 18:30 (JST)</td>\n",
              "      <td>{'Adaptation': [{'mal_id': 1348, 'type': 'mang...</td>\n",
              "    </tr>\n",
              "  </tbody>\n",
              "</table>\n",
              "</div>"
            ],
            "text/plain": [
              "   animeID  ...                                            related\n",
              "0        1  ...  {'Adaptation': [{'mal_id': 173, 'type': 'manga...\n",
              "1        5  ...  {'Parent story': [{'mal_id': 1, 'type': 'anime...\n",
              "2        6  ...  {'Adaptation': [{'mal_id': 703, 'type': 'manga...\n",
              "3        7  ...                                                 {}\n",
              "4        8  ...  {'Adaptation': [{'mal_id': 1348, 'type': 'mang...\n",
              "\n",
              "[5 rows x 27 columns]"
            ]
          },
          "metadata": {
            "tags": []
          },
          "execution_count": 10
        }
      ]
    },
    {
      "cell_type": "code",
      "metadata": {
        "id": "yBXcDimNLYX0",
        "colab_type": "code",
        "colab": {}
      },
      "source": [
        "list_1 = anime.columns"
      ],
      "execution_count": 0,
      "outputs": []
    },
    {
      "cell_type": "code",
      "metadata": {
        "id": "gPd-7chJMnMA",
        "colab_type": "code",
        "colab": {}
      },
      "source": [
        "list_1 = list_1.tolist()"
      ],
      "execution_count": 0,
      "outputs": []
    },
    {
      "cell_type": "code",
      "metadata": {
        "id": "UOBEKgoxM15_",
        "colab_type": "code",
        "colab": {}
      },
      "source": [
        "list_1 = [x.strip() for x in list_1 ]"
      ],
      "execution_count": 0,
      "outputs": []
    },
    {
      "cell_type": "code",
      "metadata": {
        "id": "kODagboSOuOI",
        "colab_type": "code",
        "outputId": "eae9e71d-f3b8-4592-a03d-0b4c315cd169",
        "colab": {
          "base_uri": "https://localhost:8080/",
          "height": 476
        }
      },
      "source": [
        "list_1"
      ],
      "execution_count": 0,
      "outputs": [
        {
          "output_type": "execute_result",
          "data": {
            "text/plain": [
              "['animeID',\n",
              " 'name',\n",
              " 'title_english',\n",
              " 'title_japanese',\n",
              " 'title_synonyms',\n",
              " 'type',\n",
              " 'source',\n",
              " 'producers',\n",
              " 'genre',\n",
              " 'studio',\n",
              " 'episodes',\n",
              " 'status',\n",
              " 'airing',\n",
              " 'aired',\n",
              " 'duration',\n",
              " 'rating',\n",
              " 'score',\n",
              " 'scored_by',\n",
              " 'rank',\n",
              " 'popularity',\n",
              " 'members',\n",
              " 'favorites',\n",
              " 'synopsis',\n",
              " 'background',\n",
              " 'premiered',\n",
              " 'broadcast',\n",
              " 'related']"
            ]
          },
          "metadata": {
            "tags": []
          },
          "execution_count": 14
        }
      ]
    },
    {
      "cell_type": "code",
      "metadata": {
        "id": "ooeAVYAtOvb0",
        "colab_type": "code",
        "colab": {}
      },
      "source": [
        "anime.columns = list_1"
      ],
      "execution_count": 0,
      "outputs": []
    },
    {
      "cell_type": "code",
      "metadata": {
        "id": "XekI5vL_O89y",
        "colab_type": "code",
        "outputId": "f1ebe3da-7d20-44ef-b8b6-48d647612790",
        "colab": {
          "base_uri": "https://localhost:8080/",
          "height": 581
        }
      },
      "source": [
        "anime.head()"
      ],
      "execution_count": 0,
      "outputs": [
        {
          "output_type": "execute_result",
          "data": {
            "text/html": [
              "<div>\n",
              "<style scoped>\n",
              "    .dataframe tbody tr th:only-of-type {\n",
              "        vertical-align: middle;\n",
              "    }\n",
              "\n",
              "    .dataframe tbody tr th {\n",
              "        vertical-align: top;\n",
              "    }\n",
              "\n",
              "    .dataframe thead th {\n",
              "        text-align: right;\n",
              "    }\n",
              "</style>\n",
              "<table border=\"1\" class=\"dataframe\">\n",
              "  <thead>\n",
              "    <tr style=\"text-align: right;\">\n",
              "      <th></th>\n",
              "      <th>animeID</th>\n",
              "      <th>name</th>\n",
              "      <th>title_english</th>\n",
              "      <th>title_japanese</th>\n",
              "      <th>title_synonyms</th>\n",
              "      <th>type</th>\n",
              "      <th>source</th>\n",
              "      <th>producers</th>\n",
              "      <th>genre</th>\n",
              "      <th>studio</th>\n",
              "      <th>episodes</th>\n",
              "      <th>status</th>\n",
              "      <th>airing</th>\n",
              "      <th>aired</th>\n",
              "      <th>duration</th>\n",
              "      <th>rating</th>\n",
              "      <th>score</th>\n",
              "      <th>scored_by</th>\n",
              "      <th>rank</th>\n",
              "      <th>popularity</th>\n",
              "      <th>members</th>\n",
              "      <th>favorites</th>\n",
              "      <th>synopsis</th>\n",
              "      <th>background</th>\n",
              "      <th>premiered</th>\n",
              "      <th>broadcast</th>\n",
              "      <th>related</th>\n",
              "    </tr>\n",
              "  </thead>\n",
              "  <tbody>\n",
              "    <tr>\n",
              "      <td>0</td>\n",
              "      <td>1</td>\n",
              "      <td>Cowboy Bebop</td>\n",
              "      <td>Cowboy Bebop</td>\n",
              "      <td>カウボーイビバップ</td>\n",
              "      <td>[]</td>\n",
              "      <td>TV</td>\n",
              "      <td>Original</td>\n",
              "      <td>['Bandai Visual']</td>\n",
              "      <td>['Action', 'Adventure', 'Comedy', 'Drama', 'Sc...</td>\n",
              "      <td>['Sunrise']</td>\n",
              "      <td>26.0</td>\n",
              "      <td>Finished Airing</td>\n",
              "      <td>False</td>\n",
              "      <td>{'from': '1998-04-03T00:00:00+00:00', 'to': '1...</td>\n",
              "      <td>24 min per ep</td>\n",
              "      <td>R - 17+ (violence &amp; profanity)</td>\n",
              "      <td>8.81</td>\n",
              "      <td>405664.0</td>\n",
              "      <td>26.0</td>\n",
              "      <td>39.0</td>\n",
              "      <td>795733.0</td>\n",
              "      <td>43460.0</td>\n",
              "      <td>In the year 2071, humanity has colonized sever...</td>\n",
              "      <td>When Cowboy Bebop first aired in spring of 199...</td>\n",
              "      <td>Spring 1998</td>\n",
              "      <td>Saturdays at 01:00 (JST)</td>\n",
              "      <td>{'Adaptation': [{'mal_id': 173, 'type': 'manga...</td>\n",
              "    </tr>\n",
              "    <tr>\n",
              "      <td>1</td>\n",
              "      <td>5</td>\n",
              "      <td>Cowboy Bebop: Tengoku no Tobira</td>\n",
              "      <td>Cowboy Bebop: The Movie</td>\n",
              "      <td>カウボーイビバップ 天国の扉</td>\n",
              "      <td>[\"Cowboy Bebop: Knockin' on Heaven's Door\"]</td>\n",
              "      <td>Movie</td>\n",
              "      <td>Original</td>\n",
              "      <td>['Sunrise', 'Bandai Visual']</td>\n",
              "      <td>['Action', 'Drama', 'Mystery', 'Sci-Fi', 'Space']</td>\n",
              "      <td>['Bones']</td>\n",
              "      <td>1.0</td>\n",
              "      <td>Finished Airing</td>\n",
              "      <td>False</td>\n",
              "      <td>{'from': '2001-09-01T00:00:00+00:00', 'to': No...</td>\n",
              "      <td>1 hr 55 min</td>\n",
              "      <td>R - 17+ (violence &amp; profanity)</td>\n",
              "      <td>8.41</td>\n",
              "      <td>120243.0</td>\n",
              "      <td>164.0</td>\n",
              "      <td>449.0</td>\n",
              "      <td>197791.0</td>\n",
              "      <td>776.0</td>\n",
              "      <td>Another day, another bounty—such is the life o...</td>\n",
              "      <td>NaN</td>\n",
              "      <td>NaN</td>\n",
              "      <td>NaN</td>\n",
              "      <td>{'Parent story': [{'mal_id': 1, 'type': 'anime...</td>\n",
              "    </tr>\n",
              "    <tr>\n",
              "      <td>2</td>\n",
              "      <td>6</td>\n",
              "      <td>Trigun</td>\n",
              "      <td>Trigun</td>\n",
              "      <td>トライガン</td>\n",
              "      <td>[]</td>\n",
              "      <td>TV</td>\n",
              "      <td>Manga</td>\n",
              "      <td>['Victor Entertainment']</td>\n",
              "      <td>['Action', 'Sci-Fi', 'Adventure', 'Comedy', 'D...</td>\n",
              "      <td>['Madhouse']</td>\n",
              "      <td>26.0</td>\n",
              "      <td>Finished Airing</td>\n",
              "      <td>False</td>\n",
              "      <td>{'from': '1998-04-01T00:00:00+00:00', 'to': '1...</td>\n",
              "      <td>24 min per ep</td>\n",
              "      <td>PG-13 - Teens 13 or older</td>\n",
              "      <td>8.30</td>\n",
              "      <td>212537.0</td>\n",
              "      <td>255.0</td>\n",
              "      <td>146.0</td>\n",
              "      <td>408548.0</td>\n",
              "      <td>10432.0</td>\n",
              "      <td>Vash the Stampede is the man with a $$60,000,0...</td>\n",
              "      <td>The Japanese release by Victor Entertainment h...</td>\n",
              "      <td>Spring 1998</td>\n",
              "      <td>Thursdays at 01:15 (JST)</td>\n",
              "      <td>{'Adaptation': [{'mal_id': 703, 'type': 'manga...</td>\n",
              "    </tr>\n",
              "    <tr>\n",
              "      <td>3</td>\n",
              "      <td>7</td>\n",
              "      <td>Witch Hunter Robin</td>\n",
              "      <td>Witch Hunter Robin</td>\n",
              "      <td>Witch Hunter ROBIN</td>\n",
              "      <td>['WHR']</td>\n",
              "      <td>TV</td>\n",
              "      <td>Original</td>\n",
              "      <td>['Bandai Visual']</td>\n",
              "      <td>['Action', 'Magic', 'Police', 'Supernatural', ...</td>\n",
              "      <td>['Sunrise']</td>\n",
              "      <td>26.0</td>\n",
              "      <td>Finished Airing</td>\n",
              "      <td>False</td>\n",
              "      <td>{'from': '2002-07-02T00:00:00+00:00', 'to': '2...</td>\n",
              "      <td>25 min per ep</td>\n",
              "      <td>PG-13 - Teens 13 or older</td>\n",
              "      <td>7.33</td>\n",
              "      <td>32837.0</td>\n",
              "      <td>2371.0</td>\n",
              "      <td>1171.0</td>\n",
              "      <td>79397.0</td>\n",
              "      <td>537.0</td>\n",
              "      <td>Witches are individuals with special powers li...</td>\n",
              "      <td>NaN</td>\n",
              "      <td>Summer 2002</td>\n",
              "      <td>Tuesdays at Unknown</td>\n",
              "      <td>{}</td>\n",
              "    </tr>\n",
              "    <tr>\n",
              "      <td>4</td>\n",
              "      <td>8</td>\n",
              "      <td>Bouken Ou Beet</td>\n",
              "      <td>Beet the Vandel Buster</td>\n",
              "      <td>冒険王ビィト</td>\n",
              "      <td>['Adventure King Beet']</td>\n",
              "      <td>TV</td>\n",
              "      <td>Manga</td>\n",
              "      <td>['TV Tokyo', 'Dentsu']</td>\n",
              "      <td>['Adventure', 'Fantasy', 'Shounen', 'Supernatu...</td>\n",
              "      <td>['Toei Animation']</td>\n",
              "      <td>52.0</td>\n",
              "      <td>Finished Airing</td>\n",
              "      <td>False</td>\n",
              "      <td>{'from': '2004-09-30T00:00:00+00:00', 'to': '2...</td>\n",
              "      <td>23 min per ep</td>\n",
              "      <td>PG - Children</td>\n",
              "      <td>7.03</td>\n",
              "      <td>4894.0</td>\n",
              "      <td>3544.0</td>\n",
              "      <td>3704.0</td>\n",
              "      <td>11708.0</td>\n",
              "      <td>14.0</td>\n",
              "      <td>It is the dark century and the people are suff...</td>\n",
              "      <td>NaN</td>\n",
              "      <td>Fall 2004</td>\n",
              "      <td>Thursdays at 18:30 (JST)</td>\n",
              "      <td>{'Adaptation': [{'mal_id': 1348, 'type': 'mang...</td>\n",
              "    </tr>\n",
              "  </tbody>\n",
              "</table>\n",
              "</div>"
            ],
            "text/plain": [
              "   animeID  ...                                            related\n",
              "0        1  ...  {'Adaptation': [{'mal_id': 173, 'type': 'manga...\n",
              "1        5  ...  {'Parent story': [{'mal_id': 1, 'type': 'anime...\n",
              "2        6  ...  {'Adaptation': [{'mal_id': 703, 'type': 'manga...\n",
              "3        7  ...                                                 {}\n",
              "4        8  ...  {'Adaptation': [{'mal_id': 1348, 'type': 'mang...\n",
              "\n",
              "[5 rows x 27 columns]"
            ]
          },
          "metadata": {
            "tags": []
          },
          "execution_count": 16
        }
      ]
    },
    {
      "cell_type": "code",
      "metadata": {
        "id": "L6iGgDZ3PLOW",
        "colab_type": "code",
        "outputId": "f1e2c6cc-0611-45cc-8959-16d09e7d8624",
        "colab": {
          "base_uri": "https://localhost:8080/",
          "height": 34
        }
      },
      "source": [
        "anime.shape"
      ],
      "execution_count": 0,
      "outputs": [
        {
          "output_type": "execute_result",
          "data": {
            "text/plain": [
              "(15278, 27)"
            ]
          },
          "metadata": {
            "tags": []
          },
          "execution_count": 17
        }
      ]
    },
    {
      "cell_type": "code",
      "metadata": {
        "id": "o09eAW7vPjHT",
        "colab_type": "code",
        "outputId": "740337d8-62c3-4117-824f-cc2df8857f94",
        "colab": {
          "base_uri": "https://localhost:8080/",
          "height": 297
        }
      },
      "source": [
        "anime.describe()"
      ],
      "execution_count": 0,
      "outputs": [
        {
          "output_type": "execute_result",
          "data": {
            "text/html": [
              "<div>\n",
              "<style scoped>\n",
              "    .dataframe tbody tr th:only-of-type {\n",
              "        vertical-align: middle;\n",
              "    }\n",
              "\n",
              "    .dataframe tbody tr th {\n",
              "        vertical-align: top;\n",
              "    }\n",
              "\n",
              "    .dataframe thead th {\n",
              "        text-align: right;\n",
              "    }\n",
              "</style>\n",
              "<table border=\"1\" class=\"dataframe\">\n",
              "  <thead>\n",
              "    <tr style=\"text-align: right;\">\n",
              "      <th></th>\n",
              "      <th>animeID</th>\n",
              "      <th>episodes</th>\n",
              "      <th>score</th>\n",
              "      <th>scored_by</th>\n",
              "      <th>rank</th>\n",
              "      <th>popularity</th>\n",
              "      <th>members</th>\n",
              "      <th>favorites</th>\n",
              "    </tr>\n",
              "  </thead>\n",
              "  <tbody>\n",
              "    <tr>\n",
              "      <td>count</td>\n",
              "      <td>15278.000000</td>\n",
              "      <td>14732.000000</td>\n",
              "      <td>14778.000000</td>\n",
              "      <td>1.527300e+04</td>\n",
              "      <td>13669.000000</td>\n",
              "      <td>15273.000000</td>\n",
              "      <td>1.527300e+04</td>\n",
              "      <td>15273.000000</td>\n",
              "    </tr>\n",
              "    <tr>\n",
              "      <td>mean</td>\n",
              "      <td>19002.639416</td>\n",
              "      <td>11.726378</td>\n",
              "      <td>6.284508</td>\n",
              "      <td>1.210701e+04</td>\n",
              "      <td>6917.408004</td>\n",
              "      <td>7741.991292</td>\n",
              "      <td>2.450721e+04</td>\n",
              "      <td>329.457016</td>\n",
              "    </tr>\n",
              "    <tr>\n",
              "      <td>std</td>\n",
              "      <td>13706.437012</td>\n",
              "      <td>49.939231</td>\n",
              "      <td>1.073349</td>\n",
              "      <td>4.692942e+04</td>\n",
              "      <td>4003.814986</td>\n",
              "      <td>4482.323035</td>\n",
              "      <td>8.223672e+04</td>\n",
              "      <td>2829.335394</td>\n",
              "    </tr>\n",
              "    <tr>\n",
              "      <td>min</td>\n",
              "      <td>1.000000</td>\n",
              "      <td>1.000000</td>\n",
              "      <td>1.000000</td>\n",
              "      <td>0.000000e+00</td>\n",
              "      <td>0.000000</td>\n",
              "      <td>0.000000</td>\n",
              "      <td>0.000000e+00</td>\n",
              "      <td>0.000000</td>\n",
              "    </tr>\n",
              "    <tr>\n",
              "      <td>25%</td>\n",
              "      <td>5209.250000</td>\n",
              "      <td>1.000000</td>\n",
              "      <td>5.600000</td>\n",
              "      <td>4.700000e+01</td>\n",
              "      <td>3448.000000</td>\n",
              "      <td>3855.000000</td>\n",
              "      <td>2.440000e+02</td>\n",
              "      <td>0.000000</td>\n",
              "    </tr>\n",
              "    <tr>\n",
              "      <td>50%</td>\n",
              "      <td>18308.000000</td>\n",
              "      <td>2.000000</td>\n",
              "      <td>6.370000</td>\n",
              "      <td>4.700000e+02</td>\n",
              "      <td>6932.000000</td>\n",
              "      <td>7769.000000</td>\n",
              "      <td>1.630000e+03</td>\n",
              "      <td>2.000000</td>\n",
              "    </tr>\n",
              "    <tr>\n",
              "      <td>75%</td>\n",
              "      <td>33025.750000</td>\n",
              "      <td>12.000000</td>\n",
              "      <td>7.050000</td>\n",
              "      <td>3.857000e+03</td>\n",
              "      <td>10416.000000</td>\n",
              "      <td>11627.000000</td>\n",
              "      <td>1.047200e+04</td>\n",
              "      <td>23.000000</td>\n",
              "    </tr>\n",
              "    <tr>\n",
              "      <td>max</td>\n",
              "      <td>39199.000000</td>\n",
              "      <td>3057.000000</td>\n",
              "      <td>10.000000</td>\n",
              "      <td>1.107955e+06</td>\n",
              "      <td>13838.000000</td>\n",
              "      <td>15474.000000</td>\n",
              "      <td>1.610561e+06</td>\n",
              "      <td>120331.000000</td>\n",
              "    </tr>\n",
              "  </tbody>\n",
              "</table>\n",
              "</div>"
            ],
            "text/plain": [
              "            animeID      episodes  ...       members      favorites\n",
              "count  15278.000000  14732.000000  ...  1.527300e+04   15273.000000\n",
              "mean   19002.639416     11.726378  ...  2.450721e+04     329.457016\n",
              "std    13706.437012     49.939231  ...  8.223672e+04    2829.335394\n",
              "min        1.000000      1.000000  ...  0.000000e+00       0.000000\n",
              "25%     5209.250000      1.000000  ...  2.440000e+02       0.000000\n",
              "50%    18308.000000      2.000000  ...  1.630000e+03       2.000000\n",
              "75%    33025.750000     12.000000  ...  1.047200e+04      23.000000\n",
              "max    39199.000000   3057.000000  ...  1.610561e+06  120331.000000\n",
              "\n",
              "[8 rows x 8 columns]"
            ]
          },
          "metadata": {
            "tags": []
          },
          "execution_count": 18
        }
      ]
    },
    {
      "cell_type": "code",
      "metadata": {
        "id": "YbGZ6rzRPn5E",
        "colab_type": "code",
        "outputId": "a76130d6-1e3e-4e9b-fac3-1dcd5bda0a76",
        "colab": {
          "base_uri": "https://localhost:8080/",
          "height": 561
        }
      },
      "source": [
        "anime.info()"
      ],
      "execution_count": 0,
      "outputs": [
        {
          "output_type": "stream",
          "text": [
            "<class 'pandas.core.frame.DataFrame'>\n",
            "RangeIndex: 15278 entries, 0 to 15277\n",
            "Data columns (total 27 columns):\n",
            "animeID           15278 non-null int64\n",
            "name              15278 non-null object\n",
            "title_english     6122 non-null object\n",
            "title_japanese    15230 non-null object\n",
            "title_synonyms    15273 non-null object\n",
            "type              15273 non-null object\n",
            "source            15273 non-null object\n",
            "producers         15273 non-null object\n",
            "genre             15273 non-null object\n",
            "studio            15273 non-null object\n",
            "episodes          14732 non-null float64\n",
            "status            15273 non-null object\n",
            "airing            15273 non-null object\n",
            "aired             15273 non-null object\n",
            "duration          15273 non-null object\n",
            "rating            15273 non-null object\n",
            "score             14778 non-null float64\n",
            "scored_by         15273 non-null float64\n",
            "rank              13669 non-null float64\n",
            "popularity        15273 non-null float64\n",
            "members           15273 non-null float64\n",
            "favorites         15273 non-null float64\n",
            "synopsis          14565 non-null object\n",
            "background        1118 non-null object\n",
            "premiered         4179 non-null object\n",
            "broadcast         4402 non-null object\n",
            "related           15273 non-null object\n",
            "dtypes: float64(7), int64(1), object(19)\n",
            "memory usage: 3.1+ MB\n"
          ],
          "name": "stdout"
        }
      ]
    },
    {
      "cell_type": "code",
      "metadata": {
        "id": "VbplvLQDSmIA",
        "colab_type": "code",
        "colab": {}
      },
      "source": [
        "anime.drop(columns=['title_english','title_japanese','title_synonyms','producers','status','airing','aired','synopsis','background','premiered','broadcast','related'],inplace=True)"
      ],
      "execution_count": 0,
      "outputs": []
    },
    {
      "cell_type": "code",
      "metadata": {
        "id": "VxxLkF_QUa7c",
        "colab_type": "code",
        "outputId": "802c9525-beb7-490e-8a24-1a301c70b262",
        "colab": {
          "base_uri": "https://localhost:8080/",
          "height": 34
        }
      },
      "source": [
        "anime.shape"
      ],
      "execution_count": 0,
      "outputs": [
        {
          "output_type": "execute_result",
          "data": {
            "text/plain": [
              "(15278, 15)"
            ]
          },
          "metadata": {
            "tags": []
          },
          "execution_count": 21
        }
      ]
    },
    {
      "cell_type": "code",
      "metadata": {
        "id": "_Ap4lHEvYz01",
        "colab_type": "code",
        "outputId": "e9939d0e-6626-430f-f6d6-88ad5949d499",
        "colab": {
          "base_uri": "https://localhost:8080/",
          "height": 357
        }
      },
      "source": [
        "anime.info()"
      ],
      "execution_count": 0,
      "outputs": [
        {
          "output_type": "stream",
          "text": [
            "<class 'pandas.core.frame.DataFrame'>\n",
            "RangeIndex: 15278 entries, 0 to 15277\n",
            "Data columns (total 15 columns):\n",
            "animeID       15278 non-null int64\n",
            "name          15278 non-null object\n",
            "type          15273 non-null object\n",
            "source        15273 non-null object\n",
            "genre         15273 non-null object\n",
            "studio        15273 non-null object\n",
            "episodes      14732 non-null float64\n",
            "duration      15273 non-null object\n",
            "rating        15273 non-null object\n",
            "score         14778 non-null float64\n",
            "scored_by     15273 non-null float64\n",
            "rank          13669 non-null float64\n",
            "popularity    15273 non-null float64\n",
            "members       15273 non-null float64\n",
            "favorites     15273 non-null float64\n",
            "dtypes: float64(7), int64(1), object(7)\n",
            "memory usage: 1.7+ MB\n"
          ],
          "name": "stdout"
        }
      ]
    },
    {
      "cell_type": "code",
      "metadata": {
        "id": "USDv1MXzGn4v",
        "colab_type": "code",
        "colab": {}
      },
      "source": [
        "null_rows = anime.index[anime['genre'].isnull()].tolist()"
      ],
      "execution_count": 0,
      "outputs": []
    },
    {
      "cell_type": "code",
      "metadata": {
        "id": "XkOEclAuG0h0",
        "colab_type": "code",
        "colab": {}
      },
      "source": [
        "anime.drop(null_rows,inplace=True)"
      ],
      "execution_count": 0,
      "outputs": []
    },
    {
      "cell_type": "code",
      "metadata": {
        "id": "XJ7OLXw2Jss2",
        "colab_type": "code",
        "outputId": "b5de4ad4-0897-4291-e719-253db0f7e09f",
        "colab": {
          "base_uri": "https://localhost:8080/",
          "height": 357
        }
      },
      "source": [
        "anime.info()"
      ],
      "execution_count": 0,
      "outputs": [
        {
          "output_type": "stream",
          "text": [
            "<class 'pandas.core.frame.DataFrame'>\n",
            "Int64Index: 15273 entries, 0 to 15277\n",
            "Data columns (total 15 columns):\n",
            "animeID       15273 non-null int64\n",
            "name          15273 non-null object\n",
            "type          15273 non-null object\n",
            "source        15273 non-null object\n",
            "genre         15273 non-null object\n",
            "studio        15273 non-null object\n",
            "episodes      14732 non-null float64\n",
            "duration      15273 non-null object\n",
            "rating        15273 non-null object\n",
            "score         14778 non-null float64\n",
            "scored_by     15273 non-null float64\n",
            "rank          13669 non-null float64\n",
            "popularity    15273 non-null float64\n",
            "members       15273 non-null float64\n",
            "favorites     15273 non-null float64\n",
            "dtypes: float64(7), int64(1), object(7)\n",
            "memory usage: 1.9+ MB\n"
          ],
          "name": "stdout"
        }
      ]
    },
    {
      "cell_type": "code",
      "metadata": {
        "id": "SAlTWzowJy7U",
        "colab_type": "code",
        "outputId": "d187d5a9-eae5-4277-cdb2-a995e217b8ba",
        "colab": {
          "base_uri": "https://localhost:8080/",
          "height": 847
        }
      },
      "source": [
        "anime[anime['episodes'].isnull()]"
      ],
      "execution_count": 0,
      "outputs": [
        {
          "output_type": "execute_result",
          "data": {
            "text/html": [
              "<div>\n",
              "<style scoped>\n",
              "    .dataframe tbody tr th:only-of-type {\n",
              "        vertical-align: middle;\n",
              "    }\n",
              "\n",
              "    .dataframe tbody tr th {\n",
              "        vertical-align: top;\n",
              "    }\n",
              "\n",
              "    .dataframe thead th {\n",
              "        text-align: right;\n",
              "    }\n",
              "</style>\n",
              "<table border=\"1\" class=\"dataframe\">\n",
              "  <thead>\n",
              "    <tr style=\"text-align: right;\">\n",
              "      <th></th>\n",
              "      <th>animeID</th>\n",
              "      <th>name</th>\n",
              "      <th>type</th>\n",
              "      <th>source</th>\n",
              "      <th>genre</th>\n",
              "      <th>studio</th>\n",
              "      <th>episodes</th>\n",
              "      <th>duration</th>\n",
              "      <th>rating</th>\n",
              "      <th>score</th>\n",
              "      <th>scored_by</th>\n",
              "      <th>rank</th>\n",
              "      <th>popularity</th>\n",
              "      <th>members</th>\n",
              "      <th>favorites</th>\n",
              "    </tr>\n",
              "  </thead>\n",
              "  <tbody>\n",
              "    <tr>\n",
              "      <td>10</td>\n",
              "      <td>21</td>\n",
              "      <td>One Piece</td>\n",
              "      <td>TV</td>\n",
              "      <td>Manga</td>\n",
              "      <td>['Action', 'Adventure', 'Comedy', 'Super Power...</td>\n",
              "      <td>['Toei Animation']</td>\n",
              "      <td>NaN</td>\n",
              "      <td>24 min</td>\n",
              "      <td>PG-13 - Teens 13 or older</td>\n",
              "      <td>8.53</td>\n",
              "      <td>465454.0</td>\n",
              "      <td>94.0</td>\n",
              "      <td>36.0</td>\n",
              "      <td>803871.0</td>\n",
              "      <td>76869.0</td>\n",
              "    </tr>\n",
              "    <tr>\n",
              "      <td>190</td>\n",
              "      <td>235</td>\n",
              "      <td>Detective Conan</td>\n",
              "      <td>TV</td>\n",
              "      <td>Manga</td>\n",
              "      <td>['Adventure', 'Mystery', 'Comedy', 'Police', '...</td>\n",
              "      <td>['TMS Entertainment']</td>\n",
              "      <td>NaN</td>\n",
              "      <td>25 min</td>\n",
              "      <td>PG-13 - Teens 13 or older</td>\n",
              "      <td>8.25</td>\n",
              "      <td>83970.0</td>\n",
              "      <td>286.0</td>\n",
              "      <td>537.0</td>\n",
              "      <td>172217.0</td>\n",
              "      <td>8564.0</td>\n",
              "    </tr>\n",
              "    <tr>\n",
              "      <td>819</td>\n",
              "      <td>966</td>\n",
              "      <td>Crayon Shin-chan</td>\n",
              "      <td>TV</td>\n",
              "      <td>Manga</td>\n",
              "      <td>['Slice of Life', 'Comedy', 'Ecchi', 'School',...</td>\n",
              "      <td>['Shin-Ei Animation']</td>\n",
              "      <td>NaN</td>\n",
              "      <td>21 min</td>\n",
              "      <td>PG - Children</td>\n",
              "      <td>7.74</td>\n",
              "      <td>19037.0</td>\n",
              "      <td>1007.0</td>\n",
              "      <td>1995.0</td>\n",
              "      <td>38234.0</td>\n",
              "      <td>653.0</td>\n",
              "    </tr>\n",
              "    <tr>\n",
              "      <td>1023</td>\n",
              "      <td>1199</td>\n",
              "      <td>Nintama Rantarou</td>\n",
              "      <td>TV</td>\n",
              "      <td>Manga</td>\n",
              "      <td>['Comedy', 'Kids']</td>\n",
              "      <td>['Ajia-Do']</td>\n",
              "      <td>NaN</td>\n",
              "      <td>10 min</td>\n",
              "      <td>G - All Ages</td>\n",
              "      <td>7.15</td>\n",
              "      <td>1125.0</td>\n",
              "      <td>3087.0</td>\n",
              "      <td>6072.0</td>\n",
              "      <td>3495.0</td>\n",
              "      <td>52.0</td>\n",
              "    </tr>\n",
              "    <tr>\n",
              "      <td>1682</td>\n",
              "      <td>1960</td>\n",
              "      <td>Sore Ike! Anpanman</td>\n",
              "      <td>TV</td>\n",
              "      <td>Picture book</td>\n",
              "      <td>['Comedy', 'Kids', 'Fantasy']</td>\n",
              "      <td>['TMS Entertainment']</td>\n",
              "      <td>NaN</td>\n",
              "      <td>24 min</td>\n",
              "      <td>PG - Children</td>\n",
              "      <td>6.63</td>\n",
              "      <td>462.0</td>\n",
              "      <td>5232.0</td>\n",
              "      <td>8088.0</td>\n",
              "      <td>1419.0</td>\n",
              "      <td>15.0</td>\n",
              "    </tr>\n",
              "    <tr>\n",
              "      <td>...</td>\n",
              "      <td>...</td>\n",
              "      <td>...</td>\n",
              "      <td>...</td>\n",
              "      <td>...</td>\n",
              "      <td>...</td>\n",
              "      <td>...</td>\n",
              "      <td>...</td>\n",
              "      <td>...</td>\n",
              "      <td>...</td>\n",
              "      <td>...</td>\n",
              "      <td>...</td>\n",
              "      <td>...</td>\n",
              "      <td>...</td>\n",
              "      <td>...</td>\n",
              "      <td>...</td>\n",
              "    </tr>\n",
              "    <tr>\n",
              "      <td>15272</td>\n",
              "      <td>39194</td>\n",
              "      <td>Shin Chuuka Ichiban!</td>\n",
              "      <td>Unknown</td>\n",
              "      <td>Manga</td>\n",
              "      <td>['Comedy', 'Shounen']</td>\n",
              "      <td>['Production I.G', 'Nihon Ad Systems']</td>\n",
              "      <td>NaN</td>\n",
              "      <td>Unknown</td>\n",
              "      <td>None</td>\n",
              "      <td>NaN</td>\n",
              "      <td>2.0</td>\n",
              "      <td>NaN</td>\n",
              "      <td>13098.0</td>\n",
              "      <td>216.0</td>\n",
              "      <td>0.0</td>\n",
              "    </tr>\n",
              "    <tr>\n",
              "      <td>15273</td>\n",
              "      <td>39195</td>\n",
              "      <td>Beastars</td>\n",
              "      <td>TV</td>\n",
              "      <td>Manga</td>\n",
              "      <td>['Slice of Life', 'Psychological', 'Drama', 'S...</td>\n",
              "      <td>[]</td>\n",
              "      <td>NaN</td>\n",
              "      <td>Unknown</td>\n",
              "      <td>None</td>\n",
              "      <td>NaN</td>\n",
              "      <td>0.0</td>\n",
              "      <td>NaN</td>\n",
              "      <td>14917.0</td>\n",
              "      <td>67.0</td>\n",
              "      <td>0.0</td>\n",
              "    </tr>\n",
              "    <tr>\n",
              "      <td>15274</td>\n",
              "      <td>39196</td>\n",
              "      <td>Mairimashita! Iruma-kun</td>\n",
              "      <td>TV</td>\n",
              "      <td>Manga</td>\n",
              "      <td>['Comedy', 'Demons', 'Supernatural', 'Fantasy'...</td>\n",
              "      <td>[]</td>\n",
              "      <td>NaN</td>\n",
              "      <td>Unknown</td>\n",
              "      <td>None</td>\n",
              "      <td>NaN</td>\n",
              "      <td>0.0</td>\n",
              "      <td>NaN</td>\n",
              "      <td>15231.0</td>\n",
              "      <td>59.0</td>\n",
              "      <td>0.0</td>\n",
              "    </tr>\n",
              "    <tr>\n",
              "      <td>15276</td>\n",
              "      <td>39198</td>\n",
              "      <td>Kanata no Astra</td>\n",
              "      <td>TV</td>\n",
              "      <td>Manga</td>\n",
              "      <td>['Action', 'Sci-Fi', 'Shounen', 'Space']</td>\n",
              "      <td>['Lerche']</td>\n",
              "      <td>NaN</td>\n",
              "      <td>Unknown</td>\n",
              "      <td>None</td>\n",
              "      <td>NaN</td>\n",
              "      <td>0.0</td>\n",
              "      <td>0.0</td>\n",
              "      <td>0.0</td>\n",
              "      <td>0.0</td>\n",
              "      <td>2.0</td>\n",
              "    </tr>\n",
              "    <tr>\n",
              "      <td>15277</td>\n",
              "      <td>39199</td>\n",
              "      <td>Katsute Kami Datta Kemono-tachi e</td>\n",
              "      <td>TV</td>\n",
              "      <td>Manga</td>\n",
              "      <td>['Fantasy', 'Shounen']</td>\n",
              "      <td>['MAPPA']</td>\n",
              "      <td>NaN</td>\n",
              "      <td>Unknown</td>\n",
              "      <td>None</td>\n",
              "      <td>NaN</td>\n",
              "      <td>0.0</td>\n",
              "      <td>0.0</td>\n",
              "      <td>0.0</td>\n",
              "      <td>9.0</td>\n",
              "      <td>1.0</td>\n",
              "    </tr>\n",
              "  </tbody>\n",
              "</table>\n",
              "<p>541 rows × 15 columns</p>\n",
              "</div>"
            ],
            "text/plain": [
              "       animeID                               name  ...   members favorites\n",
              "10          21                          One Piece  ...  803871.0   76869.0\n",
              "190        235                    Detective Conan  ...  172217.0    8564.0\n",
              "819        966                   Crayon Shin-chan  ...   38234.0     653.0\n",
              "1023      1199                   Nintama Rantarou  ...    3495.0      52.0\n",
              "1682      1960                 Sore Ike! Anpanman  ...    1419.0      15.0\n",
              "...        ...                                ...  ...       ...       ...\n",
              "15272    39194               Shin Chuuka Ichiban!  ...     216.0       0.0\n",
              "15273    39195                           Beastars  ...      67.0       0.0\n",
              "15274    39196            Mairimashita! Iruma-kun  ...      59.0       0.0\n",
              "15276    39198                    Kanata no Astra  ...       0.0       2.0\n",
              "15277    39199  Katsute Kami Datta Kemono-tachi e  ...       9.0       1.0\n",
              "\n",
              "[541 rows x 15 columns]"
            ]
          },
          "metadata": {
            "tags": []
          },
          "execution_count": 26
        }
      ]
    },
    {
      "cell_type": "code",
      "metadata": {
        "id": "fFzJtf8AKJLW",
        "colab_type": "code",
        "outputId": "2b0020a6-322d-40e5-bc3e-5fa02d20fc6e",
        "colab": {
          "base_uri": "https://localhost:8080/",
          "height": 122
        }
      },
      "source": [
        "anime['episodes'][anime['name']=='One Piece'] = 900"
      ],
      "execution_count": 0,
      "outputs": [
        {
          "output_type": "stream",
          "text": [
            "/usr/local/lib/python3.6/dist-packages/ipykernel_launcher.py:1: SettingWithCopyWarning: \n",
            "A value is trying to be set on a copy of a slice from a DataFrame\n",
            "\n",
            "See the caveats in the documentation: http://pandas.pydata.org/pandas-docs/stable/user_guide/indexing.html#returning-a-view-versus-a-copy\n",
            "  \"\"\"Entry point for launching an IPython kernel.\n"
          ],
          "name": "stderr"
        }
      ]
    },
    {
      "cell_type": "code",
      "metadata": {
        "id": "EsQ0UuohKd0Q",
        "colab_type": "code",
        "colab": {}
      },
      "source": [
        "anime.fillna({'episodes':12},inplace=True)"
      ],
      "execution_count": 0,
      "outputs": []
    },
    {
      "cell_type": "markdown",
      "metadata": {
        "id": "dYGhmfIILsos",
        "colab_type": "text"
      },
      "source": [
        "* This requires a bit of domain knowledge, as every season of anime has 12 episodes, I am not imputing mean or median."
      ]
    },
    {
      "cell_type": "code",
      "metadata": {
        "id": "VTsCh6aPNSzq",
        "colab_type": "code",
        "colab": {}
      },
      "source": [
        "anime.fillna({'score':anime['score'].median()},inplace=True)"
      ],
      "execution_count": 0,
      "outputs": []
    },
    {
      "cell_type": "code",
      "metadata": {
        "id": "7qZwNvRsO2im",
        "colab_type": "code",
        "colab": {}
      },
      "source": [
        "anime.fillna({'rank':anime['rank'].median()},inplace=True)"
      ],
      "execution_count": 0,
      "outputs": []
    },
    {
      "cell_type": "code",
      "metadata": {
        "id": "b-l1h4BtP4NA",
        "colab_type": "code",
        "colab": {}
      },
      "source": [
        "unaired = anime.index[anime['rank'] == 0].tolist()"
      ],
      "execution_count": 0,
      "outputs": []
    },
    {
      "cell_type": "code",
      "metadata": {
        "id": "_iJZZVmURgyO",
        "colab_type": "code",
        "colab": {}
      },
      "source": [
        "anime.drop(unaired,inplace=True)"
      ],
      "execution_count": 0,
      "outputs": []
    },
    {
      "cell_type": "code",
      "metadata": {
        "id": "8giDNFhGR_oK",
        "colab_type": "code",
        "colab": {}
      },
      "source": [
        "anime.loc[anime.type == 'Manga','type'] = 'TV'"
      ],
      "execution_count": 0,
      "outputs": []
    },
    {
      "cell_type": "code",
      "metadata": {
        "id": "t57QL_8YTmjH",
        "colab_type": "code",
        "colab": {}
      },
      "source": [
        "anime.loc[anime.source == 'Unknown','source'] = 'Manga'"
      ],
      "execution_count": 0,
      "outputs": []
    },
    {
      "cell_type": "code",
      "metadata": {
        "id": "2DEsfPxqSKli",
        "colab_type": "code",
        "colab": {}
      },
      "source": [
        "anime.drop(columns=['studio'],inplace=True)"
      ],
      "execution_count": 0,
      "outputs": []
    },
    {
      "cell_type": "code",
      "metadata": {
        "id": "1AtnVt4-Ta0k",
        "colab_type": "code",
        "colab": {}
      },
      "source": [
        "anime.drop(columns=['rating','duration'],inplace=True)"
      ],
      "execution_count": 0,
      "outputs": []
    },
    {
      "cell_type": "code",
      "metadata": {
        "id": "eWGi0oRWUM7o",
        "colab_type": "code",
        "outputId": "40c2e557-31f6-4452-c777-91396f64da3a",
        "colab": {
          "base_uri": "https://localhost:8080/",
          "height": 306
        }
      },
      "source": [
        "anime.info()"
      ],
      "execution_count": 0,
      "outputs": [
        {
          "output_type": "stream",
          "text": [
            "<class 'pandas.core.frame.DataFrame'>\n",
            "Int64Index: 15235 entries, 0 to 15275\n",
            "Data columns (total 12 columns):\n",
            "animeID       15235 non-null int64\n",
            "name          15235 non-null object\n",
            "type          15235 non-null object\n",
            "source        15235 non-null object\n",
            "genre         15235 non-null object\n",
            "episodes      15235 non-null float64\n",
            "score         15235 non-null float64\n",
            "scored_by     15235 non-null float64\n",
            "rank          15235 non-null float64\n",
            "popularity    15235 non-null float64\n",
            "members       15235 non-null float64\n",
            "favorites     15235 non-null float64\n",
            "dtypes: float64(7), int64(1), object(4)\n",
            "memory usage: 1.5+ MB\n"
          ],
          "name": "stdout"
        }
      ]
    },
    {
      "cell_type": "code",
      "metadata": {
        "id": "k0YT_0nnUk2B",
        "colab_type": "code",
        "colab": {}
      },
      "source": [
        "cor_matrix = anime.corr()"
      ],
      "execution_count": 0,
      "outputs": []
    },
    {
      "cell_type": "code",
      "metadata": {
        "id": "mMJkcwkfC368",
        "colab_type": "code",
        "outputId": "01a35e61-1190-4e4e-d1c6-84d27b5e1936",
        "colab": {
          "base_uri": "https://localhost:8080/",
          "height": 326
        }
      },
      "source": [
        "sns.heatmap(cor_matrix,annot=True)\n"
      ],
      "execution_count": 0,
      "outputs": [
        {
          "output_type": "execute_result",
          "data": {
            "text/plain": [
              "<matplotlib.axes._subplots.AxesSubplot at 0x7f01a9502320>"
            ]
          },
          "metadata": {
            "tags": []
          },
          "execution_count": 39
        },
        {
          "output_type": "display_data",
          "data": {
            "image/png": "[encoded data removed]",
            "text/plain": [
              "<Figure size 432x288 with 2 Axes>"
            ]
          },
          "metadata": {
            "tags": []
          }
        }
      ]
    },
    {
      "cell_type": "markdown",
      "metadata": {
        "id": "Sd5ZUfYPF8v2",
        "colab_type": "text"
      },
      "source": [
        "* All obviuos correlations can be seen, no new insight can be inferred from this, like when score increases rank decreases hence its cell is too cold, similarly for popularity as MAL popularity work similar to rank(smaller is better)"
      ]
    },
    {
      "cell_type": "code",
      "metadata": {
        "id": "ZGok8KlFGlI0",
        "colab_type": "code",
        "outputId": "bd326319-77eb-48e7-96cd-48149823363c",
        "colab": {
          "base_uri": "https://localhost:8080/",
          "height": 283
        }
      },
      "source": [
        "sns.distplot(anime.episodes,bins=10)\n",
        "plt.show()"
      ],
      "execution_count": 0,
      "outputs": [
        {
          "output_type": "display_data",
          "data": {
            "image/png": "[encoded data removed]",
            "text/plain": [
              "<Figure size 432x288 with 1 Axes>"
            ]
          },
          "metadata": {
            "tags": []
          }
        }
      ]
    },
    {
      "cell_type": "markdown",
      "metadata": {
        "id": "r4Reud4ZM_Yl",
        "colab_type": "text"
      },
      "source": [
        "* Most episodes have below 25-26 episode, except the long running shounen series and children cartoon from the 90's. let's check it below to be sure"
      ]
    },
    {
      "cell_type": "code",
      "metadata": {
        "id": "K8DZYUqNGxWS",
        "colab_type": "code",
        "outputId": "045bc4a5-8dfe-464e-e00b-a274c8d90934",
        "colab": {
          "base_uri": "https://localhost:8080/",
          "height": 34
        }
      },
      "source": [
        "anime.episodes.quantile(.90)"
      ],
      "execution_count": 0,
      "outputs": [
        {
          "output_type": "execute_result",
          "data": {
            "text/plain": [
              "26.0"
            ]
          },
          "metadata": {
            "tags": []
          },
          "execution_count": 41
        }
      ]
    },
    {
      "cell_type": "code",
      "metadata": {
        "id": "UjgBI5fiKh7B",
        "colab_type": "code",
        "outputId": "efc98699-01dd-49af-e5a3-9b5b637a4c6f",
        "colab": {
          "base_uri": "https://localhost:8080/",
          "height": 34
        }
      },
      "source": [
        "anime.episodes.quantile(0.99)"
      ],
      "execution_count": 0,
      "outputs": [
        {
          "output_type": "execute_result",
          "data": {
            "text/plain": [
              "104.0"
            ]
          },
          "metadata": {
            "tags": []
          },
          "execution_count": 42
        }
      ]
    },
    {
      "cell_type": "markdown",
      "metadata": {
        "id": "2lIqrV1rPUoA",
        "colab_type": "text"
      },
      "source": [
        "* As you can see 99% of the anime has episodes below ~100 and 90% of them below 26"
      ]
    },
    {
      "cell_type": "code",
      "metadata": {
        "id": "f92_UFoqPTEZ",
        "colab_type": "code",
        "outputId": "04ea1664-c4ef-41cc-b61f-4b63ebe1d713",
        "colab": {
          "base_uri": "https://localhost:8080/",
          "height": 283
        }
      },
      "source": [
        "sns.distplot(anime.score)\n",
        "plt.show()"
      ],
      "execution_count": 0,
      "outputs": [
        {
          "output_type": "display_data",
          "data": {
            "image/png": "[encoded data removed]",
            "text/plain": [
              "<Figure size 432x288 with 1 Axes>"
            ]
          },
          "metadata": {
            "tags": []
          }
        }
      ]
    },
    {
      "cell_type": "code",
      "metadata": {
        "id": "uH-3-6oWPoaM",
        "colab_type": "code",
        "outputId": "2b7cdc6c-2d64-4131-8f06-a3789d521ca3",
        "colab": {
          "base_uri": "https://localhost:8080/",
          "height": 286
        }
      },
      "source": [
        "hist,edges = np.histogram(anime.score,bins=20)\n",
        "pdf = hist/sum(hist)\n",
        "cdf = np.cumsum(pdf)\n",
        "plt.plot(edges[1:],cdf)"
      ],
      "execution_count": 0,
      "outputs": [
        {
          "output_type": "execute_result",
          "data": {
            "text/plain": [
              "[<matplotlib.lines.Line2D at 0x7f01a5a66dd8>]"
            ]
          },
          "metadata": {
            "tags": []
          },
          "execution_count": 44
        },
        {
          "output_type": "display_data",
          "data": {
            "image/png": "[encoded data removed]",
            "text/plain": [
              "<Figure size 432x288 with 1 Axes>"
            ]
          },
          "metadata": {
            "tags": []
          }
        }
      ]
    },
    {
      "cell_type": "code",
      "metadata": {
        "id": "zDJ5reuHRaEK",
        "colab_type": "code",
        "outputId": "acec2b76-d0f4-4cb7-c53d-fa60bc5a704c",
        "colab": {
          "base_uri": "https://localhost:8080/",
          "height": 162
        }
      },
      "source": [
        "anime[anime.score == 10]"
      ],
      "execution_count": 0,
      "outputs": [
        {
          "output_type": "execute_result",
          "data": {
            "text/html": [
              "<div>\n",
              "<style scoped>\n",
              "    .dataframe tbody tr th:only-of-type {\n",
              "        vertical-align: middle;\n",
              "    }\n",
              "\n",
              "    .dataframe tbody tr th {\n",
              "        vertical-align: top;\n",
              "    }\n",
              "\n",
              "    .dataframe thead th {\n",
              "        text-align: right;\n",
              "    }\n",
              "</style>\n",
              "<table border=\"1\" class=\"dataframe\">\n",
              "  <thead>\n",
              "    <tr style=\"text-align: right;\">\n",
              "      <th></th>\n",
              "      <th>animeID</th>\n",
              "      <th>name</th>\n",
              "      <th>type</th>\n",
              "      <th>source</th>\n",
              "      <th>genre</th>\n",
              "      <th>episodes</th>\n",
              "      <th>score</th>\n",
              "      <th>scored_by</th>\n",
              "      <th>rank</th>\n",
              "      <th>popularity</th>\n",
              "      <th>members</th>\n",
              "      <th>favorites</th>\n",
              "    </tr>\n",
              "  </thead>\n",
              "  <tbody>\n",
              "    <tr>\n",
              "      <td>12630</td>\n",
              "      <td>35103</td>\n",
              "      <td>Tanabata Monogatari</td>\n",
              "      <td>OVA</td>\n",
              "      <td>Other</td>\n",
              "      <td>['Historical', 'Kids']</td>\n",
              "      <td>1.0</td>\n",
              "      <td>10.0</td>\n",
              "      <td>1.0</td>\n",
              "      <td>13267.0</td>\n",
              "      <td>14909.0</td>\n",
              "      <td>55.0</td>\n",
              "      <td>0.0</td>\n",
              "    </tr>\n",
              "    <tr>\n",
              "      <td>14962</td>\n",
              "      <td>38781</td>\n",
              "      <td>Violence Voyager</td>\n",
              "      <td>Movie</td>\n",
              "      <td>Original</td>\n",
              "      <td>['Adventure', 'Comedy', 'Horror']</td>\n",
              "      <td>1.0</td>\n",
              "      <td>10.0</td>\n",
              "      <td>1.0</td>\n",
              "      <td>13544.0</td>\n",
              "      <td>14765.0</td>\n",
              "      <td>65.0</td>\n",
              "      <td>0.0</td>\n",
              "    </tr>\n",
              "  </tbody>\n",
              "</table>\n",
              "</div>"
            ],
            "text/plain": [
              "       animeID                 name   type  ... popularity members  favorites\n",
              "12630    35103  Tanabata Monogatari    OVA  ...    14909.0    55.0        0.0\n",
              "14962    38781     Violence Voyager  Movie  ...    14765.0    65.0        0.0\n",
              "\n",
              "[2 rows x 12 columns]"
            ]
          },
          "metadata": {
            "tags": []
          },
          "execution_count": 45
        }
      ]
    },
    {
      "cell_type": "markdown",
      "metadata": {
        "id": "6a27vYjJUJra",
        "colab_type": "text"
      },
      "source": [
        "* These could trouble us because they have only 1 scorer and have a perfect score, if it was a classification task this would have to be engineered into another feature or we would get wrong result. In this case this is irrelevant I guess."
      ]
    },
    {
      "cell_type": "markdown",
      "metadata": {
        "id": "UQdABXmuUQ-Q",
        "colab_type": "text"
      },
      "source": [
        "### Further Exploration is unnecessary."
      ]
    },
    {
      "cell_type": "markdown",
      "metadata": {
        "id": "-lY7-S5CUegw",
        "colab_type": "text"
      },
      "source": [
        "# Normalization\n",
        "* I will go with normalization over Standardization because we have score from 1-10 and episodes spanning to over 3000, MinMaxScalar can be used to bring everything we need into the range [0-1]"
      ]
    },
    {
      "cell_type": "markdown",
      "metadata": {
        "id": "EMCG2HjPWjhz",
        "colab_type": "text"
      },
      "source": [
        "* Before that we need to convert the categorical variables to numerical to get the optimum result."
      ]
    },
    {
      "cell_type": "code",
      "metadata": {
        "id": "JXDgUd7MUGog",
        "colab_type": "code",
        "colab": {}
      },
      "source": [
        "type_dummy = pd.get_dummies(anime.type)\n",
        "source_dummy = pd.get_dummies(anime.source)\n"
      ],
      "execution_count": 0,
      "outputs": []
    },
    {
      "cell_type": "code",
      "metadata": {
        "id": "FG_RSfNGR8qW",
        "colab_type": "code",
        "colab": {}
      },
      "source": [
        "for i in range(1,len(anime.genre)):\n",
        "  s = anime.genre.iloc[i]\n",
        "  anime.genre.iloc[i] = eval(s)\n",
        "  print(i)\n"
      ],
      "execution_count": 0,
      "outputs": []
    },
    {
      "cell_type": "code",
      "metadata": {
        "id": "69imfZ75pzC9",
        "colab_type": "code",
        "colab": {}
      },
      "source": [
        "anime.drop(0)"
      ],
      "execution_count": 0,
      "outputs": []
    },
    {
      "cell_type": "code",
      "metadata": {
        "id": "0Fpk_bExG2ak",
        "colab_type": "code",
        "colab": {}
      },
      "source": [
        "genre_dummy = pd.get_dummies(anime.explode(\"genre\").pivot(columns=\"genre\", values=\"genre\"))\n"
      ],
      "execution_count": 0,
      "outputs": []
    },
    {
      "cell_type": "code",
      "metadata": {
        "id": "2pZCeuKkJfPP",
        "colab_type": "code",
        "colab": {}
      },
      "source": [
        "genre_dummy.drop(columns=['''['Action', 'Adventure', 'Comedy', 'Drama', 'Sci-Fi', 'Space']_['Action', 'Adventure', 'Comedy', 'Drama', 'Sci-Fi', 'Space']'''],inplace=True)"
      ],
      "execution_count": 0,
      "outputs": []
    },
    {
      "cell_type": "code",
      "metadata": {
        "id": "7CVvELvvKEgM",
        "colab_type": "code",
        "outputId": "1c1cd715-f1b3-4f22-e40f-c7037c4fdaca",
        "colab": {
          "base_uri": "https://localhost:8080/",
          "height": 473
        }
      },
      "source": [
        "genre_dummy"
      ],
      "execution_count": 0,
      "outputs": [
        {
          "output_type": "execute_result",
          "data": {
            "text/html": [
              "<div>\n",
              "<style scoped>\n",
              "    .dataframe tbody tr th:only-of-type {\n",
              "        vertical-align: middle;\n",
              "    }\n",
              "\n",
              "    .dataframe tbody tr th {\n",
              "        vertical-align: top;\n",
              "    }\n",
              "\n",
              "    .dataframe thead th {\n",
              "        text-align: right;\n",
              "    }\n",
              "</style>\n",
              "<table border=\"1\" class=\"dataframe\">\n",
              "  <thead>\n",
              "    <tr style=\"text-align: right;\">\n",
              "      <th></th>\n",
              "      <th>Action_Action</th>\n",
              "      <th>Adventure_Adventure</th>\n",
              "      <th>Cars_Cars</th>\n",
              "      <th>Comedy_Comedy</th>\n",
              "      <th>Dementia_Dementia</th>\n",
              "      <th>Demons_Demons</th>\n",
              "      <th>Drama_Drama</th>\n",
              "      <th>Ecchi_Ecchi</th>\n",
              "      <th>Fantasy_Fantasy</th>\n",
              "      <th>Game_Game</th>\n",
              "      <th>Harem_Harem</th>\n",
              "      <th>Hentai_Hentai</th>\n",
              "      <th>Historical_Historical</th>\n",
              "      <th>Horror_Horror</th>\n",
              "      <th>Josei_Josei</th>\n",
              "      <th>Kids_Kids</th>\n",
              "      <th>Magic_Magic</th>\n",
              "      <th>Martial Arts_Martial Arts</th>\n",
              "      <th>Mecha_Mecha</th>\n",
              "      <th>Military_Military</th>\n",
              "      <th>Music_Music</th>\n",
              "      <th>Mystery_Mystery</th>\n",
              "      <th>Parody_Parody</th>\n",
              "      <th>Police_Police</th>\n",
              "      <th>Psychological_Psychological</th>\n",
              "      <th>Romance_Romance</th>\n",
              "      <th>Samurai_Samurai</th>\n",
              "      <th>School_School</th>\n",
              "      <th>Sci-Fi_Sci-Fi</th>\n",
              "      <th>Seinen_Seinen</th>\n",
              "      <th>Shoujo_Shoujo</th>\n",
              "      <th>Shoujo Ai_Shoujo Ai</th>\n",
              "      <th>Shounen_Shounen</th>\n",
              "      <th>Shounen Ai_Shounen Ai</th>\n",
              "      <th>Slice of Life_Slice of Life</th>\n",
              "      <th>Space_Space</th>\n",
              "      <th>Sports_Sports</th>\n",
              "      <th>Super Power_Super Power</th>\n",
              "      <th>Supernatural_Supernatural</th>\n",
              "      <th>Thriller_Thriller</th>\n",
              "      <th>Vampire_Vampire</th>\n",
              "      <th>Yaoi_Yaoi</th>\n",
              "      <th>Yuri_Yuri</th>\n",
              "    </tr>\n",
              "  </thead>\n",
              "  <tbody>\n",
              "    <tr>\n",
              "      <td>0</td>\n",
              "      <td>0</td>\n",
              "      <td>0</td>\n",
              "      <td>0</td>\n",
              "      <td>0</td>\n",
              "      <td>0</td>\n",
              "      <td>0</td>\n",
              "      <td>0</td>\n",
              "      <td>0</td>\n",
              "      <td>0</td>\n",
              "      <td>0</td>\n",
              "      <td>0</td>\n",
              "      <td>0</td>\n",
              "      <td>0</td>\n",
              "      <td>0</td>\n",
              "      <td>0</td>\n",
              "      <td>0</td>\n",
              "      <td>0</td>\n",
              "      <td>0</td>\n",
              "      <td>0</td>\n",
              "      <td>0</td>\n",
              "      <td>0</td>\n",
              "      <td>0</td>\n",
              "      <td>0</td>\n",
              "      <td>0</td>\n",
              "      <td>0</td>\n",
              "      <td>0</td>\n",
              "      <td>0</td>\n",
              "      <td>0</td>\n",
              "      <td>0</td>\n",
              "      <td>0</td>\n",
              "      <td>0</td>\n",
              "      <td>0</td>\n",
              "      <td>0</td>\n",
              "      <td>0</td>\n",
              "      <td>0</td>\n",
              "      <td>0</td>\n",
              "      <td>0</td>\n",
              "      <td>0</td>\n",
              "      <td>0</td>\n",
              "      <td>0</td>\n",
              "      <td>0</td>\n",
              "      <td>0</td>\n",
              "      <td>0</td>\n",
              "    </tr>\n",
              "    <tr>\n",
              "      <td>1</td>\n",
              "      <td>1</td>\n",
              "      <td>0</td>\n",
              "      <td>0</td>\n",
              "      <td>0</td>\n",
              "      <td>0</td>\n",
              "      <td>0</td>\n",
              "      <td>1</td>\n",
              "      <td>0</td>\n",
              "      <td>0</td>\n",
              "      <td>0</td>\n",
              "      <td>0</td>\n",
              "      <td>0</td>\n",
              "      <td>0</td>\n",
              "      <td>0</td>\n",
              "      <td>0</td>\n",
              "      <td>0</td>\n",
              "      <td>0</td>\n",
              "      <td>0</td>\n",
              "      <td>0</td>\n",
              "      <td>0</td>\n",
              "      <td>0</td>\n",
              "      <td>1</td>\n",
              "      <td>0</td>\n",
              "      <td>0</td>\n",
              "      <td>0</td>\n",
              "      <td>0</td>\n",
              "      <td>0</td>\n",
              "      <td>0</td>\n",
              "      <td>1</td>\n",
              "      <td>0</td>\n",
              "      <td>0</td>\n",
              "      <td>0</td>\n",
              "      <td>0</td>\n",
              "      <td>0</td>\n",
              "      <td>0</td>\n",
              "      <td>1</td>\n",
              "      <td>0</td>\n",
              "      <td>0</td>\n",
              "      <td>0</td>\n",
              "      <td>0</td>\n",
              "      <td>0</td>\n",
              "      <td>0</td>\n",
              "      <td>0</td>\n",
              "    </tr>\n",
              "    <tr>\n",
              "      <td>2</td>\n",
              "      <td>1</td>\n",
              "      <td>1</td>\n",
              "      <td>0</td>\n",
              "      <td>1</td>\n",
              "      <td>0</td>\n",
              "      <td>0</td>\n",
              "      <td>1</td>\n",
              "      <td>0</td>\n",
              "      <td>0</td>\n",
              "      <td>0</td>\n",
              "      <td>0</td>\n",
              "      <td>0</td>\n",
              "      <td>0</td>\n",
              "      <td>0</td>\n",
              "      <td>0</td>\n",
              "      <td>0</td>\n",
              "      <td>0</td>\n",
              "      <td>0</td>\n",
              "      <td>0</td>\n",
              "      <td>0</td>\n",
              "      <td>0</td>\n",
              "      <td>0</td>\n",
              "      <td>0</td>\n",
              "      <td>0</td>\n",
              "      <td>0</td>\n",
              "      <td>0</td>\n",
              "      <td>0</td>\n",
              "      <td>0</td>\n",
              "      <td>1</td>\n",
              "      <td>0</td>\n",
              "      <td>0</td>\n",
              "      <td>0</td>\n",
              "      <td>1</td>\n",
              "      <td>0</td>\n",
              "      <td>0</td>\n",
              "      <td>0</td>\n",
              "      <td>0</td>\n",
              "      <td>0</td>\n",
              "      <td>0</td>\n",
              "      <td>0</td>\n",
              "      <td>0</td>\n",
              "      <td>0</td>\n",
              "      <td>0</td>\n",
              "    </tr>\n",
              "    <tr>\n",
              "      <td>3</td>\n",
              "      <td>1</td>\n",
              "      <td>0</td>\n",
              "      <td>0</td>\n",
              "      <td>0</td>\n",
              "      <td>0</td>\n",
              "      <td>0</td>\n",
              "      <td>1</td>\n",
              "      <td>0</td>\n",
              "      <td>0</td>\n",
              "      <td>0</td>\n",
              "      <td>0</td>\n",
              "      <td>0</td>\n",
              "      <td>0</td>\n",
              "      <td>0</td>\n",
              "      <td>0</td>\n",
              "      <td>0</td>\n",
              "      <td>1</td>\n",
              "      <td>0</td>\n",
              "      <td>0</td>\n",
              "      <td>0</td>\n",
              "      <td>0</td>\n",
              "      <td>1</td>\n",
              "      <td>0</td>\n",
              "      <td>1</td>\n",
              "      <td>0</td>\n",
              "      <td>0</td>\n",
              "      <td>0</td>\n",
              "      <td>0</td>\n",
              "      <td>0</td>\n",
              "      <td>0</td>\n",
              "      <td>0</td>\n",
              "      <td>0</td>\n",
              "      <td>0</td>\n",
              "      <td>0</td>\n",
              "      <td>0</td>\n",
              "      <td>0</td>\n",
              "      <td>0</td>\n",
              "      <td>0</td>\n",
              "      <td>1</td>\n",
              "      <td>0</td>\n",
              "      <td>0</td>\n",
              "      <td>0</td>\n",
              "      <td>0</td>\n",
              "    </tr>\n",
              "    <tr>\n",
              "      <td>4</td>\n",
              "      <td>0</td>\n",
              "      <td>1</td>\n",
              "      <td>0</td>\n",
              "      <td>0</td>\n",
              "      <td>0</td>\n",
              "      <td>0</td>\n",
              "      <td>0</td>\n",
              "      <td>0</td>\n",
              "      <td>1</td>\n",
              "      <td>0</td>\n",
              "      <td>0</td>\n",
              "      <td>0</td>\n",
              "      <td>0</td>\n",
              "      <td>0</td>\n",
              "      <td>0</td>\n",
              "      <td>0</td>\n",
              "      <td>0</td>\n",
              "      <td>0</td>\n",
              "      <td>0</td>\n",
              "      <td>0</td>\n",
              "      <td>0</td>\n",
              "      <td>0</td>\n",
              "      <td>0</td>\n",
              "      <td>0</td>\n",
              "      <td>0</td>\n",
              "      <td>0</td>\n",
              "      <td>0</td>\n",
              "      <td>0</td>\n",
              "      <td>0</td>\n",
              "      <td>0</td>\n",
              "      <td>0</td>\n",
              "      <td>0</td>\n",
              "      <td>1</td>\n",
              "      <td>0</td>\n",
              "      <td>0</td>\n",
              "      <td>0</td>\n",
              "      <td>0</td>\n",
              "      <td>0</td>\n",
              "      <td>1</td>\n",
              "      <td>0</td>\n",
              "      <td>0</td>\n",
              "      <td>0</td>\n",
              "      <td>0</td>\n",
              "    </tr>\n",
              "    <tr>\n",
              "      <td>...</td>\n",
              "      <td>...</td>\n",
              "      <td>...</td>\n",
              "      <td>...</td>\n",
              "      <td>...</td>\n",
              "      <td>...</td>\n",
              "      <td>...</td>\n",
              "      <td>...</td>\n",
              "      <td>...</td>\n",
              "      <td>...</td>\n",
              "      <td>...</td>\n",
              "      <td>...</td>\n",
              "      <td>...</td>\n",
              "      <td>...</td>\n",
              "      <td>...</td>\n",
              "      <td>...</td>\n",
              "      <td>...</td>\n",
              "      <td>...</td>\n",
              "      <td>...</td>\n",
              "      <td>...</td>\n",
              "      <td>...</td>\n",
              "      <td>...</td>\n",
              "      <td>...</td>\n",
              "      <td>...</td>\n",
              "      <td>...</td>\n",
              "      <td>...</td>\n",
              "      <td>...</td>\n",
              "      <td>...</td>\n",
              "      <td>...</td>\n",
              "      <td>...</td>\n",
              "      <td>...</td>\n",
              "      <td>...</td>\n",
              "      <td>...</td>\n",
              "      <td>...</td>\n",
              "      <td>...</td>\n",
              "      <td>...</td>\n",
              "      <td>...</td>\n",
              "      <td>...</td>\n",
              "      <td>...</td>\n",
              "      <td>...</td>\n",
              "      <td>...</td>\n",
              "      <td>...</td>\n",
              "      <td>...</td>\n",
              "      <td>...</td>\n",
              "    </tr>\n",
              "    <tr>\n",
              "      <td>15271</td>\n",
              "      <td>0</td>\n",
              "      <td>0</td>\n",
              "      <td>0</td>\n",
              "      <td>0</td>\n",
              "      <td>0</td>\n",
              "      <td>0</td>\n",
              "      <td>0</td>\n",
              "      <td>0</td>\n",
              "      <td>1</td>\n",
              "      <td>0</td>\n",
              "      <td>0</td>\n",
              "      <td>0</td>\n",
              "      <td>0</td>\n",
              "      <td>0</td>\n",
              "      <td>0</td>\n",
              "      <td>0</td>\n",
              "      <td>0</td>\n",
              "      <td>0</td>\n",
              "      <td>0</td>\n",
              "      <td>0</td>\n",
              "      <td>0</td>\n",
              "      <td>0</td>\n",
              "      <td>0</td>\n",
              "      <td>0</td>\n",
              "      <td>0</td>\n",
              "      <td>0</td>\n",
              "      <td>0</td>\n",
              "      <td>0</td>\n",
              "      <td>0</td>\n",
              "      <td>0</td>\n",
              "      <td>0</td>\n",
              "      <td>0</td>\n",
              "      <td>0</td>\n",
              "      <td>0</td>\n",
              "      <td>0</td>\n",
              "      <td>0</td>\n",
              "      <td>0</td>\n",
              "      <td>0</td>\n",
              "      <td>0</td>\n",
              "      <td>0</td>\n",
              "      <td>0</td>\n",
              "      <td>0</td>\n",
              "      <td>0</td>\n",
              "    </tr>\n",
              "    <tr>\n",
              "      <td>15272</td>\n",
              "      <td>0</td>\n",
              "      <td>0</td>\n",
              "      <td>0</td>\n",
              "      <td>1</td>\n",
              "      <td>0</td>\n",
              "      <td>0</td>\n",
              "      <td>0</td>\n",
              "      <td>0</td>\n",
              "      <td>0</td>\n",
              "      <td>0</td>\n",
              "      <td>0</td>\n",
              "      <td>0</td>\n",
              "      <td>0</td>\n",
              "      <td>0</td>\n",
              "      <td>0</td>\n",
              "      <td>0</td>\n",
              "      <td>0</td>\n",
              "      <td>0</td>\n",
              "      <td>0</td>\n",
              "      <td>0</td>\n",
              "      <td>0</td>\n",
              "      <td>0</td>\n",
              "      <td>0</td>\n",
              "      <td>0</td>\n",
              "      <td>0</td>\n",
              "      <td>0</td>\n",
              "      <td>0</td>\n",
              "      <td>0</td>\n",
              "      <td>0</td>\n",
              "      <td>0</td>\n",
              "      <td>0</td>\n",
              "      <td>0</td>\n",
              "      <td>1</td>\n",
              "      <td>0</td>\n",
              "      <td>0</td>\n",
              "      <td>0</td>\n",
              "      <td>0</td>\n",
              "      <td>0</td>\n",
              "      <td>0</td>\n",
              "      <td>0</td>\n",
              "      <td>0</td>\n",
              "      <td>0</td>\n",
              "      <td>0</td>\n",
              "    </tr>\n",
              "    <tr>\n",
              "      <td>15273</td>\n",
              "      <td>0</td>\n",
              "      <td>0</td>\n",
              "      <td>0</td>\n",
              "      <td>0</td>\n",
              "      <td>0</td>\n",
              "      <td>0</td>\n",
              "      <td>1</td>\n",
              "      <td>0</td>\n",
              "      <td>0</td>\n",
              "      <td>0</td>\n",
              "      <td>0</td>\n",
              "      <td>0</td>\n",
              "      <td>0</td>\n",
              "      <td>0</td>\n",
              "      <td>0</td>\n",
              "      <td>0</td>\n",
              "      <td>0</td>\n",
              "      <td>0</td>\n",
              "      <td>0</td>\n",
              "      <td>0</td>\n",
              "      <td>0</td>\n",
              "      <td>0</td>\n",
              "      <td>0</td>\n",
              "      <td>0</td>\n",
              "      <td>1</td>\n",
              "      <td>0</td>\n",
              "      <td>0</td>\n",
              "      <td>0</td>\n",
              "      <td>0</td>\n",
              "      <td>0</td>\n",
              "      <td>0</td>\n",
              "      <td>0</td>\n",
              "      <td>1</td>\n",
              "      <td>0</td>\n",
              "      <td>1</td>\n",
              "      <td>0</td>\n",
              "      <td>0</td>\n",
              "      <td>0</td>\n",
              "      <td>0</td>\n",
              "      <td>0</td>\n",
              "      <td>0</td>\n",
              "      <td>0</td>\n",
              "      <td>0</td>\n",
              "    </tr>\n",
              "    <tr>\n",
              "      <td>15274</td>\n",
              "      <td>0</td>\n",
              "      <td>0</td>\n",
              "      <td>0</td>\n",
              "      <td>1</td>\n",
              "      <td>0</td>\n",
              "      <td>1</td>\n",
              "      <td>0</td>\n",
              "      <td>0</td>\n",
              "      <td>1</td>\n",
              "      <td>0</td>\n",
              "      <td>0</td>\n",
              "      <td>0</td>\n",
              "      <td>0</td>\n",
              "      <td>0</td>\n",
              "      <td>0</td>\n",
              "      <td>0</td>\n",
              "      <td>0</td>\n",
              "      <td>0</td>\n",
              "      <td>0</td>\n",
              "      <td>0</td>\n",
              "      <td>0</td>\n",
              "      <td>0</td>\n",
              "      <td>0</td>\n",
              "      <td>0</td>\n",
              "      <td>0</td>\n",
              "      <td>0</td>\n",
              "      <td>0</td>\n",
              "      <td>0</td>\n",
              "      <td>0</td>\n",
              "      <td>0</td>\n",
              "      <td>0</td>\n",
              "      <td>0</td>\n",
              "      <td>1</td>\n",
              "      <td>0</td>\n",
              "      <td>0</td>\n",
              "      <td>0</td>\n",
              "      <td>0</td>\n",
              "      <td>0</td>\n",
              "      <td>1</td>\n",
              "      <td>0</td>\n",
              "      <td>0</td>\n",
              "      <td>0</td>\n",
              "      <td>0</td>\n",
              "    </tr>\n",
              "    <tr>\n",
              "      <td>15275</td>\n",
              "      <td>0</td>\n",
              "      <td>1</td>\n",
              "      <td>0</td>\n",
              "      <td>0</td>\n",
              "      <td>0</td>\n",
              "      <td>0</td>\n",
              "      <td>0</td>\n",
              "      <td>0</td>\n",
              "      <td>0</td>\n",
              "      <td>0</td>\n",
              "      <td>0</td>\n",
              "      <td>0</td>\n",
              "      <td>0</td>\n",
              "      <td>0</td>\n",
              "      <td>0</td>\n",
              "      <td>0</td>\n",
              "      <td>0</td>\n",
              "      <td>0</td>\n",
              "      <td>0</td>\n",
              "      <td>0</td>\n",
              "      <td>0</td>\n",
              "      <td>0</td>\n",
              "      <td>0</td>\n",
              "      <td>0</td>\n",
              "      <td>0</td>\n",
              "      <td>0</td>\n",
              "      <td>0</td>\n",
              "      <td>0</td>\n",
              "      <td>0</td>\n",
              "      <td>0</td>\n",
              "      <td>0</td>\n",
              "      <td>0</td>\n",
              "      <td>0</td>\n",
              "      <td>0</td>\n",
              "      <td>1</td>\n",
              "      <td>0</td>\n",
              "      <td>0</td>\n",
              "      <td>0</td>\n",
              "      <td>0</td>\n",
              "      <td>0</td>\n",
              "      <td>0</td>\n",
              "      <td>0</td>\n",
              "      <td>0</td>\n",
              "    </tr>\n",
              "  </tbody>\n",
              "</table>\n",
              "<p>15235 rows × 43 columns</p>\n",
              "</div>"
            ],
            "text/plain": [
              "       Action_Action  Adventure_Adventure  ...  Yaoi_Yaoi  Yuri_Yuri\n",
              "0                  0                    0  ...          0          0\n",
              "1                  1                    0  ...          0          0\n",
              "2                  1                    1  ...          0          0\n",
              "3                  1                    0  ...          0          0\n",
              "4                  0                    1  ...          0          0\n",
              "...              ...                  ...  ...        ...        ...\n",
              "15271              0                    0  ...          0          0\n",
              "15272              0                    0  ...          0          0\n",
              "15273              0                    0  ...          0          0\n",
              "15274              0                    0  ...          0          0\n",
              "15275              0                    1  ...          0          0\n",
              "\n",
              "[15235 rows x 43 columns]"
            ]
          },
          "metadata": {
            "tags": []
          },
          "execution_count": 56
        }
      ]
    },
    {
      "cell_type": "markdown",
      "metadata": {
        "id": "EpdKJXGkK3U7",
        "colab_type": "text"
      },
      "source": [
        "* There is no need for name columns as we are just measuring the spatial distance between vectors."
      ]
    },
    {
      "cell_type": "code",
      "metadata": {
        "id": "J4_a6RoFKuZ5",
        "colab_type": "code",
        "colab": {}
      },
      "source": [
        "anime.drop(columns=['name','type','source','genre'],inplace=True)"
      ],
      "execution_count": 0,
      "outputs": []
    },
    {
      "cell_type": "code",
      "metadata": {
        "id": "q7YGGOaILJj0",
        "colab_type": "code",
        "outputId": "f756d1b9-6968-45c1-d488-b3978aff9291",
        "colab": {
          "base_uri": "https://localhost:8080/",
          "height": 204
        }
      },
      "source": [
        "anime.head()"
      ],
      "execution_count": 0,
      "outputs": [
        {
          "output_type": "execute_result",
          "data": {
            "text/html": [
              "<div>\n",
              "<style scoped>\n",
              "    .dataframe tbody tr th:only-of-type {\n",
              "        vertical-align: middle;\n",
              "    }\n",
              "\n",
              "    .dataframe tbody tr th {\n",
              "        vertical-align: top;\n",
              "    }\n",
              "\n",
              "    .dataframe thead th {\n",
              "        text-align: right;\n",
              "    }\n",
              "</style>\n",
              "<table border=\"1\" class=\"dataframe\">\n",
              "  <thead>\n",
              "    <tr style=\"text-align: right;\">\n",
              "      <th></th>\n",
              "      <th>animeID</th>\n",
              "      <th>episodes</th>\n",
              "      <th>score</th>\n",
              "      <th>scored_by</th>\n",
              "      <th>rank</th>\n",
              "      <th>popularity</th>\n",
              "      <th>members</th>\n",
              "      <th>favorites</th>\n",
              "    </tr>\n",
              "  </thead>\n",
              "  <tbody>\n",
              "    <tr>\n",
              "      <td>0</td>\n",
              "      <td>1</td>\n",
              "      <td>26.0</td>\n",
              "      <td>8.81</td>\n",
              "      <td>405664.0</td>\n",
              "      <td>26.0</td>\n",
              "      <td>39.0</td>\n",
              "      <td>795733.0</td>\n",
              "      <td>43460.0</td>\n",
              "    </tr>\n",
              "    <tr>\n",
              "      <td>1</td>\n",
              "      <td>5</td>\n",
              "      <td>1.0</td>\n",
              "      <td>8.41</td>\n",
              "      <td>120243.0</td>\n",
              "      <td>164.0</td>\n",
              "      <td>449.0</td>\n",
              "      <td>197791.0</td>\n",
              "      <td>776.0</td>\n",
              "    </tr>\n",
              "    <tr>\n",
              "      <td>2</td>\n",
              "      <td>6</td>\n",
              "      <td>26.0</td>\n",
              "      <td>8.30</td>\n",
              "      <td>212537.0</td>\n",
              "      <td>255.0</td>\n",
              "      <td>146.0</td>\n",
              "      <td>408548.0</td>\n",
              "      <td>10432.0</td>\n",
              "    </tr>\n",
              "    <tr>\n",
              "      <td>3</td>\n",
              "      <td>7</td>\n",
              "      <td>26.0</td>\n",
              "      <td>7.33</td>\n",
              "      <td>32837.0</td>\n",
              "      <td>2371.0</td>\n",
              "      <td>1171.0</td>\n",
              "      <td>79397.0</td>\n",
              "      <td>537.0</td>\n",
              "    </tr>\n",
              "    <tr>\n",
              "      <td>4</td>\n",
              "      <td>8</td>\n",
              "      <td>52.0</td>\n",
              "      <td>7.03</td>\n",
              "      <td>4894.0</td>\n",
              "      <td>3544.0</td>\n",
              "      <td>3704.0</td>\n",
              "      <td>11708.0</td>\n",
              "      <td>14.0</td>\n",
              "    </tr>\n",
              "  </tbody>\n",
              "</table>\n",
              "</div>"
            ],
            "text/plain": [
              "   animeID  episodes  score  scored_by    rank  popularity   members  favorites\n",
              "0        1      26.0   8.81   405664.0    26.0        39.0  795733.0    43460.0\n",
              "1        5       1.0   8.41   120243.0   164.0       449.0  197791.0      776.0\n",
              "2        6      26.0   8.30   212537.0   255.0       146.0  408548.0    10432.0\n",
              "3        7      26.0   7.33    32837.0  2371.0      1171.0   79397.0      537.0\n",
              "4        8      52.0   7.03     4894.0  3544.0      3704.0   11708.0       14.0"
            ]
          },
          "metadata": {
            "tags": []
          },
          "execution_count": 61
        }
      ]
    },
    {
      "cell_type": "code",
      "metadata": {
        "id": "g22-0jT_Q2-c",
        "colab_type": "code",
        "colab": {}
      },
      "source": [
        "main_anime = pd.concat([anime,type_dummy,source_dummy,genre_dummy] ,axis=1)"
      ],
      "execution_count": 0,
      "outputs": []
    },
    {
      "cell_type": "code",
      "metadata": {
        "id": "VN86U4mLTjao",
        "colab_type": "code",
        "outputId": "9822bf59-e12b-419f-89f5-413af90f916f",
        "colab": {
          "base_uri": "https://localhost:8080/",
          "height": 323
        }
      },
      "source": [
        "main_anime.columns"
      ],
      "execution_count": 0,
      "outputs": [
        {
          "output_type": "execute_result",
          "data": {
            "text/plain": [
              "Index(['animeID', 'episodes', 'score', 'scored_by', 'rank', 'popularity',\n",
              "       'members', 'favorites', 'Movie', 'Music', 'ONA', 'OVA', 'Special', 'TV',\n",
              "       'Unknown', '4-koma manga', 'Book', 'Card game', 'Digital manga', 'Game',\n",
              "       'Light novel', 'Manga', 'Music', 'Novel', 'Original', 'Other',\n",
              "       'Picture book', 'Radio', 'Visual novel', 'Web manga', 'Action_Action',\n",
              "       'Adventure_Adventure', 'Cars_Cars', 'Comedy_Comedy',\n",
              "       'Dementia_Dementia', 'Demons_Demons', 'Drama_Drama', 'Ecchi_Ecchi',\n",
              "       'Fantasy_Fantasy', 'Game_Game', 'Harem_Harem', 'Hentai_Hentai',\n",
              "       'Historical_Historical', 'Horror_Horror', 'Josei_Josei', 'Kids_Kids',\n",
              "       'Magic_Magic', 'Martial Arts_Martial Arts', 'Mecha_Mecha',\n",
              "       'Military_Military', 'Music_Music', 'Mystery_Mystery', 'Parody_Parody',\n",
              "       'Police_Police', 'Psychological_Psychological', 'Romance_Romance',\n",
              "       'Samurai_Samurai', 'School_School', 'Sci-Fi_Sci-Fi', 'Seinen_Seinen',\n",
              "       'Shoujo_Shoujo', 'Shoujo Ai_Shoujo Ai', 'Shounen_Shounen',\n",
              "       'Shounen Ai_Shounen Ai', 'Slice of Life_Slice of Life', 'Space_Space',\n",
              "       'Sports_Sports', 'Super Power_Super Power', 'Supernatural_Supernatural',\n",
              "       'Thriller_Thriller', 'Vampire_Vampire', 'Yaoi_Yaoi', 'Yuri_Yuri'],\n",
              "      dtype='object')"
            ]
          },
          "metadata": {
            "tags": []
          },
          "execution_count": 69
        }
      ]
    },
    {
      "cell_type": "code",
      "metadata": {
        "id": "I-57qgmUXadC",
        "colab_type": "code",
        "colab": {}
      },
      "source": [
        "min_max = MinMaxScaler()"
      ],
      "execution_count": 0,
      "outputs": []
    },
    {
      "cell_type": "code",
      "metadata": {
        "id": "0lw1hRYbXpKE",
        "colab_type": "code",
        "colab": {}
      },
      "source": [
        "main_anime = min_max.fit_transform(main_anime)"
      ],
      "execution_count": 0,
      "outputs": []
    },
    {
      "cell_type": "code",
      "metadata": {
        "id": "N5C7YH8eXvIx",
        "colab_type": "code",
        "colab": {}
      },
      "source": [
        "recom_model = NearestNeighbors(n_neighbors=6,algorithm='ball_tree').fit(main_anime)\n"
      ],
      "execution_count": 0,
      "outputs": []
    },
    {
      "cell_type": "code",
      "metadata": {
        "id": "KDznhfLtX0mc",
        "colab_type": "code",
        "colab": {}
      },
      "source": [
        "distance, indices = recom_model.kneighbors(main_anime)"
      ],
      "execution_count": 0,
      "outputs": []
    },
    {
      "cell_type": "code",
      "metadata": {
        "id": "Hi-3U33cdmkH",
        "colab_type": "code",
        "outputId": "6b5fd4c2-9b68-4514-93b7-24b10c9ea805",
        "colab": {
          "base_uri": "https://localhost:8080/",
          "height": 187
        }
      },
      "source": [
        "distance[0:5]"
      ],
      "execution_count": 0,
      "outputs": [
        {
          "output_type": "execute_result",
          "data": {
            "text/plain": [
              "array([[0.        , 1.17986705, 1.31146115, 1.32347577, 1.33376554,\n",
              "        1.35361412],\n",
              "       [0.        , 1.50158779, 1.5629315 , 1.67722375, 1.74142038,\n",
              "        1.75135608],\n",
              "       [0.        , 1.19793067, 1.42368844, 1.44348633, 1.44671208,\n",
              "        1.45167989],\n",
              "       [0.        , 1.73212142, 1.93097169, 2.00245672, 2.00998313,\n",
              "        2.01155185],\n",
              "       [0.        , 0.10915917, 0.12919458, 0.30975755, 0.32866445,\n",
              "        1.06842358]])"
            ]
          },
          "metadata": {
            "tags": []
          },
          "execution_count": 81
        }
      ]
    },
    {
      "cell_type": "code",
      "metadata": {
        "id": "giQu3llFdwfl",
        "colab_type": "code",
        "outputId": "b9af6b00-9dc1-48a2-a56b-5598fe6cd325",
        "colab": {
          "base_uri": "https://localhost:8080/",
          "height": 102
        }
      },
      "source": [
        "indices[0:5]"
      ],
      "execution_count": 0,
      "outputs": [
        {
          "output_type": "execute_result",
          "data": {
            "text/plain": [
              "array([[    0,  4301,  4194,  3910,  1446,  2533],\n",
              "       [    1,  2638,  8656,  1105,  1957,  2655],\n",
              "       [    2,  2716,   120,  3331,    13,   893],\n",
              "       [    3,   219, 11123,  1375,   591,   978],\n",
              "       [    4,   959,   529,  4389,  5116,  2355]])"
            ]
          },
          "metadata": {
            "tags": []
          },
          "execution_count": 82
        }
      ]
    },
    {
      "cell_type": "code",
      "metadata": {
        "id": "PnX5R04bkoWG",
        "colab_type": "code",
        "outputId": "83e0fbd5-1ea4-46d5-b3a8-86b4b7ce218c",
        "colab": {
          "base_uri": "https://localhost:8080/",
          "height": 51
        }
      },
      "source": [
        "anime[anime.index == 219]['animeID']"
      ],
      "execution_count": 0,
      "outputs": [
        {
          "output_type": "execute_result",
          "data": {
            "text/plain": [
              "219    272\n",
              "Name: animeID, dtype: int64"
            ]
          },
          "metadata": {
            "tags": []
          },
          "execution_count": 91
        }
      ]
    },
    {
      "cell_type": "code",
      "metadata": {
        "id": "xC5snar5d7D_",
        "colab_type": "code",
        "outputId": "b08b60e5-e93f-495d-ea2a-d07a797fb5de",
        "colab": {
          "base_uri": "https://localhost:8080/",
          "height": 51
        }
      },
      "source": [
        "anime_cpy[anime_cpy['animeID'] == 272][' name']"
      ],
      "execution_count": 0,
      "outputs": [
        {
          "output_type": "execute_result",
          "data": {
            "text/plain": [
              "219    Noir\n",
              "Name:  name, dtype: object"
            ]
          },
          "metadata": {
            "tags": []
          },
          "execution_count": 92
        }
      ]
    },
    {
      "cell_type": "code",
      "metadata": {
        "id": "9pEdDi5gjAVZ",
        "colab_type": "code",
        "outputId": "bf4d1e57-0ada-4092-e801-170fbecca1d5",
        "colab": {
          "base_uri": "https://localhost:8080/",
          "height": 581
        }
      },
      "source": [
        ""
      ],
      "execution_count": 0,
      "outputs": [
        {
          "output_type": "execute_result",
          "data": {
            "text/html": [
              "<div>\n",
              "<style scoped>\n",
              "    .dataframe tbody tr th:only-of-type {\n",
              "        vertical-align: middle;\n",
              "    }\n",
              "\n",
              "    .dataframe tbody tr th {\n",
              "        vertical-align: top;\n",
              "    }\n",
              "\n",
              "    .dataframe thead th {\n",
              "        text-align: right;\n",
              "    }\n",
              "</style>\n",
              "<table border=\"1\" class=\"dataframe\">\n",
              "  <thead>\n",
              "    <tr style=\"text-align: right;\">\n",
              "      <th></th>\n",
              "      <th>animeID</th>\n",
              "      <th>name</th>\n",
              "      <th>title_english</th>\n",
              "      <th>title_japanese</th>\n",
              "      <th>title_synonyms</th>\n",
              "      <th>type</th>\n",
              "      <th>source</th>\n",
              "      <th>producers</th>\n",
              "      <th>genre</th>\n",
              "      <th>studio</th>\n",
              "      <th>episodes</th>\n",
              "      <th>status</th>\n",
              "      <th>airing</th>\n",
              "      <th>aired</th>\n",
              "      <th>duration</th>\n",
              "      <th>rating</th>\n",
              "      <th>score</th>\n",
              "      <th>scored_by</th>\n",
              "      <th>rank</th>\n",
              "      <th>popularity</th>\n",
              "      <th>members</th>\n",
              "      <th>favorites</th>\n",
              "      <th>synopsis</th>\n",
              "      <th>background</th>\n",
              "      <th>premiered</th>\n",
              "      <th>broadcast</th>\n",
              "      <th>related</th>\n",
              "    </tr>\n",
              "  </thead>\n",
              "  <tbody>\n",
              "    <tr>\n",
              "      <td>0</td>\n",
              "      <td>1</td>\n",
              "      <td>Cowboy Bebop</td>\n",
              "      <td>Cowboy Bebop</td>\n",
              "      <td>カウボーイビバップ</td>\n",
              "      <td>[]</td>\n",
              "      <td>TV</td>\n",
              "      <td>Original</td>\n",
              "      <td>['Bandai Visual']</td>\n",
              "      <td>['Action', 'Adventure', 'Comedy', 'Drama', 'Sc...</td>\n",
              "      <td>['Sunrise']</td>\n",
              "      <td>26.0</td>\n",
              "      <td>Finished Airing</td>\n",
              "      <td>False</td>\n",
              "      <td>{'from': '1998-04-03T00:00:00+00:00', 'to': '1...</td>\n",
              "      <td>24 min per ep</td>\n",
              "      <td>R - 17+ (violence &amp; profanity)</td>\n",
              "      <td>8.81</td>\n",
              "      <td>405664.0</td>\n",
              "      <td>26.0</td>\n",
              "      <td>39.0</td>\n",
              "      <td>795733.0</td>\n",
              "      <td>43460.0</td>\n",
              "      <td>In the year 2071, humanity has colonized sever...</td>\n",
              "      <td>When Cowboy Bebop first aired in spring of 199...</td>\n",
              "      <td>Spring 1998</td>\n",
              "      <td>Saturdays at 01:00 (JST)</td>\n",
              "      <td>{'Adaptation': [{'mal_id': 173, 'type': 'manga...</td>\n",
              "    </tr>\n",
              "    <tr>\n",
              "      <td>1</td>\n",
              "      <td>5</td>\n",
              "      <td>Cowboy Bebop: Tengoku no Tobira</td>\n",
              "      <td>Cowboy Bebop: The Movie</td>\n",
              "      <td>カウボーイビバップ 天国の扉</td>\n",
              "      <td>[\"Cowboy Bebop: Knockin' on Heaven's Door\"]</td>\n",
              "      <td>Movie</td>\n",
              "      <td>Original</td>\n",
              "      <td>['Sunrise', 'Bandai Visual']</td>\n",
              "      <td>['Action', 'Drama', 'Mystery', 'Sci-Fi', 'Space']</td>\n",
              "      <td>['Bones']</td>\n",
              "      <td>1.0</td>\n",
              "      <td>Finished Airing</td>\n",
              "      <td>False</td>\n",
              "      <td>{'from': '2001-09-01T00:00:00+00:00', 'to': No...</td>\n",
              "      <td>1 hr 55 min</td>\n",
              "      <td>R - 17+ (violence &amp; profanity)</td>\n",
              "      <td>8.41</td>\n",
              "      <td>120243.0</td>\n",
              "      <td>164.0</td>\n",
              "      <td>449.0</td>\n",
              "      <td>197791.0</td>\n",
              "      <td>776.0</td>\n",
              "      <td>Another day, another bounty—such is the life o...</td>\n",
              "      <td>NaN</td>\n",
              "      <td>NaN</td>\n",
              "      <td>NaN</td>\n",
              "      <td>{'Parent story': [{'mal_id': 1, 'type': 'anime...</td>\n",
              "    </tr>\n",
              "    <tr>\n",
              "      <td>2</td>\n",
              "      <td>6</td>\n",
              "      <td>Trigun</td>\n",
              "      <td>Trigun</td>\n",
              "      <td>トライガン</td>\n",
              "      <td>[]</td>\n",
              "      <td>TV</td>\n",
              "      <td>Manga</td>\n",
              "      <td>['Victor Entertainment']</td>\n",
              "      <td>['Action', 'Sci-Fi', 'Adventure', 'Comedy', 'D...</td>\n",
              "      <td>['Madhouse']</td>\n",
              "      <td>26.0</td>\n",
              "      <td>Finished Airing</td>\n",
              "      <td>False</td>\n",
              "      <td>{'from': '1998-04-01T00:00:00+00:00', 'to': '1...</td>\n",
              "      <td>24 min per ep</td>\n",
              "      <td>PG-13 - Teens 13 or older</td>\n",
              "      <td>8.30</td>\n",
              "      <td>212537.0</td>\n",
              "      <td>255.0</td>\n",
              "      <td>146.0</td>\n",
              "      <td>408548.0</td>\n",
              "      <td>10432.0</td>\n",
              "      <td>Vash the Stampede is the man with a $$60,000,0...</td>\n",
              "      <td>The Japanese release by Victor Entertainment h...</td>\n",
              "      <td>Spring 1998</td>\n",
              "      <td>Thursdays at 01:15 (JST)</td>\n",
              "      <td>{'Adaptation': [{'mal_id': 703, 'type': 'manga...</td>\n",
              "    </tr>\n",
              "    <tr>\n",
              "      <td>3</td>\n",
              "      <td>7</td>\n",
              "      <td>Witch Hunter Robin</td>\n",
              "      <td>Witch Hunter Robin</td>\n",
              "      <td>Witch Hunter ROBIN</td>\n",
              "      <td>['WHR']</td>\n",
              "      <td>TV</td>\n",
              "      <td>Original</td>\n",
              "      <td>['Bandai Visual']</td>\n",
              "      <td>['Action', 'Magic', 'Police', 'Supernatural', ...</td>\n",
              "      <td>['Sunrise']</td>\n",
              "      <td>26.0</td>\n",
              "      <td>Finished Airing</td>\n",
              "      <td>False</td>\n",
              "      <td>{'from': '2002-07-02T00:00:00+00:00', 'to': '2...</td>\n",
              "      <td>25 min per ep</td>\n",
              "      <td>PG-13 - Teens 13 or older</td>\n",
              "      <td>7.33</td>\n",
              "      <td>32837.0</td>\n",
              "      <td>2371.0</td>\n",
              "      <td>1171.0</td>\n",
              "      <td>79397.0</td>\n",
              "      <td>537.0</td>\n",
              "      <td>Witches are individuals with special powers li...</td>\n",
              "      <td>NaN</td>\n",
              "      <td>Summer 2002</td>\n",
              "      <td>Tuesdays at Unknown</td>\n",
              "      <td>{}</td>\n",
              "    </tr>\n",
              "    <tr>\n",
              "      <td>4</td>\n",
              "      <td>8</td>\n",
              "      <td>Bouken Ou Beet</td>\n",
              "      <td>Beet the Vandel Buster</td>\n",
              "      <td>冒険王ビィト</td>\n",
              "      <td>['Adventure King Beet']</td>\n",
              "      <td>TV</td>\n",
              "      <td>Manga</td>\n",
              "      <td>['TV Tokyo', 'Dentsu']</td>\n",
              "      <td>['Adventure', 'Fantasy', 'Shounen', 'Supernatu...</td>\n",
              "      <td>['Toei Animation']</td>\n",
              "      <td>52.0</td>\n",
              "      <td>Finished Airing</td>\n",
              "      <td>False</td>\n",
              "      <td>{'from': '2004-09-30T00:00:00+00:00', 'to': '2...</td>\n",
              "      <td>23 min per ep</td>\n",
              "      <td>PG - Children</td>\n",
              "      <td>7.03</td>\n",
              "      <td>4894.0</td>\n",
              "      <td>3544.0</td>\n",
              "      <td>3704.0</td>\n",
              "      <td>11708.0</td>\n",
              "      <td>14.0</td>\n",
              "      <td>It is the dark century and the people are suff...</td>\n",
              "      <td>NaN</td>\n",
              "      <td>Fall 2004</td>\n",
              "      <td>Thursdays at 18:30 (JST)</td>\n",
              "      <td>{'Adaptation': [{'mal_id': 1348, 'type': 'mang...</td>\n",
              "    </tr>\n",
              "  </tbody>\n",
              "</table>\n",
              "</div>"
            ],
            "text/plain": [
              "   animeID  ...                                            related\n",
              "0        1  ...  {'Adaptation': [{'mal_id': 173, 'type': 'manga...\n",
              "1        5  ...  {'Parent story': [{'mal_id': 1, 'type': 'anime...\n",
              "2        6  ...  {'Adaptation': [{'mal_id': 703, 'type': 'manga...\n",
              "3        7  ...                                                 {}\n",
              "4        8  ...  {'Adaptation': [{'mal_id': 1348, 'type': 'mang...\n",
              "\n",
              "[5 rows x 27 columns]"
            ]
          },
          "metadata": {
            "tags": []
          },
          "execution_count": 90
        }
      ]
    },
    {
      "cell_type": "code",
      "metadata": {
        "id": "F6oeFmJHlmnA",
        "colab_type": "code",
        "colab": {}
      },
      "source": [
        ""
      ],
      "execution_count": 0,
      "outputs": []
    }
  ]
}